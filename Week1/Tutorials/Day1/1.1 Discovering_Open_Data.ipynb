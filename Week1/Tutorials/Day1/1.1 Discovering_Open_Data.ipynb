{
  "nbformat": 4,
  "nbformat_minor": 0,
  "metadata": {
    "colab": {
      "name": "Tuto 1.1 Discovering Open Data.ipynb",
      "provenance": []
    },
    "kernelspec": {
      "display_name": "Python 3",
      "language": "python",
      "name": "python3"
    },
    "language_info": {
      "codemirror_mode": {
        "name": "ipython",
        "version": 3
      },
      "file_extension": ".py",
      "mimetype": "text/x-python",
      "name": "python",
      "nbconvert_exporter": "python",
      "pygments_lexer": "ipython3",
      "version": "3.7.6"
    }
  },
  "cells": [
    {
      "cell_type": "markdown",
      "metadata": {
        "Collapsed": "false",
        "colab_type": "text",
        "id": "R_adEak0Q8NT"
      },
      "source": [
        "<img style=\"float: left;padding: 1.3em\" src=\"https://indico.in2p3.fr/event/18313/logo-786578160.png\">  \n",
        "\n",
        "#  Gravitational Wave Open Data Workshop #3\n",
        "\n",
        "\n",
        "#### Tutorial 1.1: Discovering open data from GW observatories\n",
        "\n",
        "This notebook describes how to discover what data are available from the [Gravitational-Wave Open Science Center (GWOSC)](https://www.gw-openscience.org).\n",
        "    \n",
        "[Click this link to view this tutorial in Google Colaboratory](https://colab.research.google.com/github/gw-odw/odw-2020/blob/master/Day_1/Tuto%201.1%20Discovering%20Open%20Data.ipynb)"
      ]
    },
    {
      "cell_type": "markdown",
      "metadata": {
        "Collapsed": "false",
        "colab_type": "text",
        "id": "W6msjCJVQ8NV"
      },
      "source": [
        "## Software installation  (execute only if running on a cloud platform or haven't done the installation yet!)\n",
        "\n",
        "First, we need to install the software, which we do following the instruction in [Software Setup Instructions](https://github.com/gw-odw/odw-2020/blob/master/setup.md):"
      ]
    },
    {
      "cell_type": "code",
      "metadata": {
        "Collapsed": "false",
        "colab_type": "code",
        "id": "DXoxopwkQ8NY",
        "colab": {}
      },
      "source": [
        "# -- Uncomment following line if running in Google Colab\n",
        "! pip install -q 'gwosc==0.5.3'"
      ],
      "execution_count": 0,
      "outputs": []
    },
    {
      "cell_type": "markdown",
      "metadata": {
        "Collapsed": "false",
        "colab_type": "text",
        "id": "mQ8Jjb0PQ8Ni"
      },
      "source": [
        "**Important:** With Google Colab, you may need to restart the runtime after running the cell above."
      ]
    },
    {
      "cell_type": "code",
      "metadata": {
        "id": "WWPcEuFb0VqP",
        "colab_type": "code",
        "colab": {
          "base_uri": "https://localhost:8080/",
          "height": 55
        },
        "outputId": "4314ba81-6478-4f02-86cc-ccd646f5f38e"
      },
      "source": [
        "#check the version of the package gwosc you are using\n",
        "import gwosc\n",
        "print(gwosc.__version__)"
      ],
      "execution_count": 2,
      "outputs": [
        {
          "output_type": "stream",
          "text": [
            "0.5.3\n"
          ],
          "name": "stdout"
        }
      ]
    },
    {
      "cell_type": "markdown",
      "metadata": {
        "id": "Yz5A6J1V0Vqc",
        "colab_type": "text"
      },
      "source": [
        "The version you get should be 0.5.3. If it's not, check that you have followed all the steps in [Software Setup Instructions](https://github.com/gw-odw/odw-2020/blob/master/setup.md)."
      ]
    },
    {
      "cell_type": "markdown",
      "metadata": {
        "Collapsed": "false",
        "colab_type": "text",
        "id": "F3tmmQ-hQ8Nu"
      },
      "source": [
        "## Querying for event information\n",
        "\n",
        "The module `gwosc.catalog`  provides tools to search for events in a catalog.\n",
        "\n",
        "The module `gwosc.datasets` provides tools for searching for datasets, including full run strain data releases.\n",
        "\n",
        "For example, we can search for events in the [GWTC-1 catalog](https://www.gw-openscience.org/eventapi/html/GWTC-1-confident/), the catalog of all events from the O1 and O2 observing runs.  A list of available catalogs can be seen in the [Event Portal](https://gw-openscience.org/eventapi)"
      ]
    },
    {
      "cell_type": "code",
      "metadata": {
        "Collapsed": "false",
        "colab_type": "code",
        "id": "-BkUqpvkQ8Nv",
        "outputId": "d7271653-1861-4383-cff8-3e3b26419d3c",
        "colab": {
          "base_uri": "https://localhost:8080/",
          "height": 90
        }
      },
      "source": [
        "from gwosc.datasets import find_datasets\n",
        "from gwosc import catalog\n",
        "\n",
        "#-- Print all the GW events from the GWTC-1 catalog \n",
        "gwtc1 = catalog.events('GWTC-1-confident')\n",
        "print('GWTC-1 events:', gwtc1)\n",
        "print(\"\")\n",
        "\n",
        "#-- Print all the large strain data sets from LIGO/Virgo observing runs\n",
        "runs = find_datasets(type='run')\n",
        "print('Large data sets:', runs)"
      ],
      "execution_count": 5,
      "outputs": [
        {
          "output_type": "stream",
          "text": [
            "GWTC-1 events: ['GW150914', 'GW151012', 'GW151226', 'GW170104', 'GW170608', 'GW170729', 'GW170809', 'GW170814', 'GW170817', 'GW170818', 'GW170823']\n",
            "\n",
            "Large data sets: ['BKGW170608_16KHZ_R1', 'O1', 'O1_16KHZ', 'O2_16KHZ_R1', 'O2_4KHZ_R1', 'S5', 'S6']\n"
          ],
          "name": "stdout"
        }
      ]
    },
    {
      "cell_type": "markdown",
      "metadata": {
        "Collapsed": "false",
        "colab_type": "text",
        "id": "D9_tRXpMQ8N8"
      },
      "source": [
        "`catalog.events` also accepts a `segment` and `detector` keyword to narrow results based on GPS time and detector:"
      ]
    },
    {
      "cell_type": "code",
      "metadata": {
        "Collapsed": "false",
        "colab_type": "code",
        "id": "XZTniqwHQ8N-",
        "outputId": "a31fcd5b-ed82-4272-bda0-7469df60ce4a",
        "colab": {
          "base_uri": "https://localhost:8080/",
          "height": 55
        }
      },
      "source": [
        "#-- Detector and segments keywords limit search result\n",
        "print(catalog.events('GWTC-1-confident', detector=\"L1\", segment=(1164556817, 1187733618)))"
      ],
      "execution_count": 6,
      "outputs": [
        {
          "output_type": "stream",
          "text": [
            "['GW170104', 'GW170608', 'GW170729', 'GW170809', 'GW170814', 'GW170817', 'GW170818', 'GW170823']\n"
          ],
          "name": "stdout"
        }
      ]
    },
    {
      "cell_type": "markdown",
      "metadata": {
        "Collapsed": "false",
        "colab_type": "text",
        "id": "7pnAItOJQ8OC"
      },
      "source": [
        "Using `gwosc.datasets.event_gps`, we can query for the GPS time of a specific event:"
      ]
    },
    {
      "cell_type": "code",
      "metadata": {
        "Collapsed": "false",
        "colab_type": "code",
        "id": "tdr8c15_Q8OD",
        "outputId": "911ae0b0-2842-4866-9b85-85d9abce85bf",
        "colab": {
          "base_uri": "https://localhost:8080/",
          "height": 55
        }
      },
      "source": [
        "from gwosc.datasets import event_gps\n",
        "gps = event_gps('GW190425')\n",
        "print(gps)"
      ],
      "execution_count": 7,
      "outputs": [
        {
          "output_type": "stream",
          "text": [
            "1240215503.0\n"
          ],
          "name": "stdout"
        }
      ]
    },
    {
      "cell_type": "markdown",
      "metadata": {
        "Collapsed": "false",
        "colab_type": "text",
        "id": "hKvQhYAOQ8OG"
      },
      "source": [
        "<div class=\"alert alert-info\">All of these times are returned in the GPS time system, which counts the number of seconds that have elapsed since the start of the GPS epoch at midnight (00:00) on January 6th 1980. GWOSC provides a <a href=\"https://www.gw-openscience.org/gps/\">GPS time converter</a> you can use to translate into datetime, or you can use <a href=\"https://gwpy.github.io/docs/stable/time/\"><code>gwpy.time</code></a>.</div>"
      ]
    },
    {
      "cell_type": "markdown",
      "metadata": {
        "Collapsed": "false",
        "colab_type": "text",
        "id": "RXVyJsDDQ8OH"
      },
      "source": [
        "We can query for the GPS time interval for an observing run:"
      ]
    },
    {
      "cell_type": "code",
      "metadata": {
        "Collapsed": "false",
        "colab_type": "code",
        "id": "QYsQSPNJQ8OK",
        "outputId": "b3818c61-ad0c-419e-a5dd-2e974d893d25",
        "colab": {
          "base_uri": "https://localhost:8080/",
          "height": 72
        }
      },
      "source": [
        "from gwosc.datasets import run_segment\n",
        "print(run_segment('O1'))\n",
        "print(run_segment('S6'))\n"
      ],
      "execution_count": 18,
      "outputs": [
        {
          "output_type": "stream",
          "text": [
            "(1126051217, 1137254417)\n",
            "(931035615, 971622015)\n"
          ],
          "name": "stdout"
        }
      ]
    },
    {
      "cell_type": "markdown",
      "metadata": {
        "id": "IB1nru360VrI",
        "colab_type": "text"
      },
      "source": [
        "To see only the confident events in O1:"
      ]
    },
    {
      "cell_type": "code",
      "metadata": {
        "id": "w29BJR100VrI",
        "colab_type": "code",
        "colab": {},
        "outputId": "12812574-6c36-4879-d6ff-1860c507bf87"
      },
      "source": [
        "O1_events = catalog.events('GWTC-1-confident', segment=run_segment('O1'))\n",
        "print(O1_events)"
      ],
      "execution_count": 0,
      "outputs": [
        {
          "output_type": "stream",
          "text": [
            "['GW150914', 'GW151012', 'GW151226']\n"
          ],
          "name": "stdout"
        }
      ]
    },
    {
      "cell_type": "markdown",
      "metadata": {
        "Collapsed": "false",
        "colab_type": "text",
        "id": "ACFu7w4_Q8OO"
      },
      "source": [
        "## Querying for data files\n",
        "\n",
        "The `gwosc.locate` module provides a function to find the URLs of data files associated with a given dataset.\n",
        "\n",
        "For event datasets, one can get the list of URLs using only the event name:"
      ]
    },
    {
      "cell_type": "code",
      "metadata": {
        "Collapsed": "false",
        "colab_type": "code",
        "id": "uMb1bsBNQ8OQ",
        "outputId": "ca3f6a31-5adf-45e5-c86d-e8a4696914d5",
        "colab": {
          "base_uri": "https://localhost:8080/",
          "height": 55
        }
      },
      "source": [
        "from gwosc.locate import get_event_urls\n",
        "urls = get_event_urls('GW150914')\n",
        "print(urls)"
      ],
      "execution_count": 0,
      "outputs": [
        {
          "output_type": "stream",
          "text": [
            "['https://www.gw-openscience.org/eventapi/json/GWTC-1-confident/GW150914/v3/H-H1_GWOSC_4KHZ_R1-1126259447-32.hdf5', 'https://www.gw-openscience.org/eventapi/json/GWTC-1-confident/GW150914/v3/H-H1_GWOSC_4KHZ_R1-1126257415-4096.hdf5', 'https://www.gw-openscience.org/eventapi/json/GWTC-1-confident/GW150914/v3/L-L1_GWOSC_4KHZ_R1-1126259447-32.hdf5', 'https://www.gw-openscience.org/eventapi/json/GWTC-1-confident/GW150914/v3/L-L1_GWOSC_4KHZ_R1-1126257415-4096.hdf5']\n"
          ],
          "name": "stdout"
        }
      ]
    },
    {
      "cell_type": "markdown",
      "metadata": {
        "Collapsed": "false",
        "colab_type": "text",
        "id": "19XV79-XQ8OV"
      },
      "source": [
        "By default, this function returns all of the files associated with a given event, which isn't particularly helpful. However, we can can filter on any of these by using keyword arguments, for example to get the URL for the 32-second file for the LIGO-Livingston detector:"
      ]
    },
    {
      "cell_type": "code",
      "metadata": {
        "Collapsed": "false",
        "colab_type": "code",
        "id": "H7MfuRbPQ8OW",
        "outputId": "2fc89919-72db-4bdb-bd4b-e073703cb62a",
        "colab": {
          "base_uri": "https://localhost:8080/",
          "height": 35
        }
      },
      "source": [
        "urls = get_event_urls('GW150914', duration=32, detector='L1')\n",
        "print(urls)"
      ],
      "execution_count": 0,
      "outputs": [
        {
          "output_type": "stream",
          "text": [
            "['https://www.gw-openscience.org/eventapi/json/GWTC-1-confident/GW150914/v3/L-L1_GWOSC_4KHZ_R1-1126259447-32.hdf5']\n"
          ],
          "name": "stdout"
        }
      ]
    },
    {
      "cell_type": "markdown",
      "metadata": {
        "Collapsed": "false",
        "colab_type": "text",
        "id": "r_YLBpR0Q8Oe"
      },
      "source": [
        "# Exercises\n",
        "\n",
        "Now that you've seen examples of how to query for dataset information using the `gwosc` package, please try and complete the following exercies using that interface:\n",
        "\n",
        "- How many months did S6 last?\n",
        "- How many GWTC-1-confident events were detected during O1?\n",
        "- What file URL contains data for V1 4096 seconds around GW170817?"
      ]
    },
    {
      "cell_type": "code",
      "metadata": {
        "id": "H2mZFnY4u5E0",
        "colab_type": "code",
        "colab": {
          "base_uri": "https://localhost:8080/",
          "height": 407
        },
        "outputId": "2254ba39-7f5c-49d2-ca82-f6ed5be07c94"
      },
      "source": [
        "! pip install gwpy # you're gonna need this convert time segments"
      ],
      "execution_count": 30,
      "outputs": [
        {
          "output_type": "stream",
          "text": [
            "Requirement already satisfied: gwpy in /usr/local/lib/python3.6/dist-packages (1.0.1)\n",
            "Requirement already satisfied: gwosc>=0.4.0 in /usr/local/lib/python3.6/dist-packages (from gwpy) (0.5.3)\n",
            "Requirement already satisfied: numpy>=1.7.1 in /usr/local/lib/python3.6/dist-packages (from gwpy) (1.18.5)\n",
            "Requirement already satisfied: h5py>=1.3 in /usr/local/lib/python3.6/dist-packages (from gwpy) (2.10.0)\n",
            "Requirement already satisfied: astropy>=1.3.0; python_version >= \"3.5\" in /usr/local/lib/python3.6/dist-packages (from gwpy) (4.0.1.post1)\n",
            "Requirement already satisfied: python-dateutil in /usr/local/lib/python3.6/dist-packages (from gwpy) (2.8.1)\n",
            "Requirement already satisfied: dqsegdb2 in /usr/local/lib/python3.6/dist-packages (from gwpy) (1.0.1)\n",
            "Requirement already satisfied: matplotlib!=2.1.0,!=2.1.1,>=1.2.0 in /usr/local/lib/python3.6/dist-packages (from gwpy) (3.2.1)\n",
            "Requirement already satisfied: ligotimegps>=1.2.1 in /usr/local/lib/python3.6/dist-packages (from gwpy) (2.0.1)\n",
            "Requirement already satisfied: scipy>=0.12.1 in /usr/local/lib/python3.6/dist-packages (from gwpy) (1.4.1)\n",
            "Requirement already satisfied: six>=1.5 in /usr/local/lib/python3.6/dist-packages (from gwpy) (1.12.0)\n",
            "Requirement already satisfied: tqdm>=4.10.0 in /usr/local/lib/python3.6/dist-packages (from gwpy) (4.41.1)\n",
            "Requirement already satisfied: gwdatafind in /usr/local/lib/python3.6/dist-packages (from gwpy) (1.0.4)\n",
            "Requirement already satisfied: ligo-segments>=1.0.0 in /usr/local/lib/python3.6/dist-packages (from gwpy) (1.2.0)\n",
            "Requirement already satisfied: cycler>=0.10 in /usr/local/lib/python3.6/dist-packages (from matplotlib!=2.1.0,!=2.1.1,>=1.2.0->gwpy) (0.10.0)\n",
            "Requirement already satisfied: pyparsing!=2.0.4,!=2.1.2,!=2.1.6,>=2.0.1 in /usr/local/lib/python3.6/dist-packages (from matplotlib!=2.1.0,!=2.1.1,>=1.2.0->gwpy) (2.4.7)\n",
            "Requirement already satisfied: kiwisolver>=1.0.1 in /usr/local/lib/python3.6/dist-packages (from matplotlib!=2.1.0,!=2.1.1,>=1.2.0->gwpy) (1.2.0)\n",
            "Requirement already satisfied: pyOpenSSL in /usr/local/lib/python3.6/dist-packages (from gwdatafind->gwpy) (19.1.0)\n",
            "Requirement already satisfied: cryptography>=2.8 in /usr/local/lib/python3.6/dist-packages (from pyOpenSSL->gwdatafind->gwpy) (2.9.2)\n",
            "Requirement already satisfied: cffi!=1.11.3,>=1.8 in /usr/local/lib/python3.6/dist-packages (from cryptography>=2.8->pyOpenSSL->gwdatafind->gwpy) (1.14.0)\n",
            "Requirement already satisfied: pycparser in /usr/local/lib/python3.6/dist-packages (from cffi!=1.11.3,>=1.8->cryptography>=2.8->pyOpenSSL->gwdatafind->gwpy) (2.20)\n"
          ],
          "name": "stdout"
        }
      ]
    },
    {
      "cell_type": "code",
      "metadata": {
        "id": "VALMkOuv0Vrg",
        "colab_type": "code",
        "colab": {
          "base_uri": "https://localhost:8080/",
          "height": 72
        },
        "outputId": "b16dcce4-7b90-4965-b48c-2f43aa2c1d1e"
      },
      "source": [
        "#How many months did S6 last?\n",
        "from gwosc.datasets import run_segment\n",
        "print(run_segment('S6'))\n",
        "\n",
        "from gwpy.time import tconvert\n",
        "start = tconvert(931035615) #year, month, day, time, \n",
        "end = tconvert(971622015) \n",
        "print(start,end) #july 2009-october 2010 \n",
        "#15 months?"
      ],
      "execution_count": 31,
      "outputs": [
        {
          "output_type": "stream",
          "text": [
            "(931035615, 971622015)\n",
            "2009-07-07 21:00:00 2010-10-20 15:00:00\n"
          ],
          "name": "stdout"
        }
      ]
    },
    {
      "cell_type": "code",
      "metadata": {
        "id": "qVqJkRkgVvLv",
        "colab_type": "code",
        "colab": {
          "base_uri": "https://localhost:8080/",
          "height": 55
        },
        "outputId": "3e946d91-bad8-414f-9dd8-7172051b42d1"
      },
      "source": [
        "#How many GWTC-1-confident events were detected during O1?\n",
        "O1_events = catalog.events('GWTC-1-confident', segment=run_segment('O1'))\n",
        "print(O1_events)"
      ],
      "execution_count": 26,
      "outputs": [
        {
          "output_type": "stream",
          "text": [
            "['GW150914', 'GW151012', 'GW151226']\n"
          ],
          "name": "stdout"
        }
      ]
    },
    {
      "cell_type": "code",
      "metadata": {
        "id": "hlXe40Rqox9Z",
        "colab_type": "code",
        "colab": {
          "base_uri": "https://localhost:8080/",
          "height": 55
        },
        "outputId": "da5438b6-2d23-452b-b55e-e06452ef6cba"
      },
      "source": [
        "#What file URL contains data for V1 4096 seconds around GW170817?\n",
        "urls = get_event_urls('GW170817', duration=4096, detector='V1')\n",
        "print(urls)\n",
        "#.h5 files"
      ],
      "execution_count": 29,
      "outputs": [
        {
          "output_type": "stream",
          "text": [
            "['https://www.gw-openscience.org/eventapi/json/GWTC-1-confident/GW170817/v3/V-V1_GWOSC_4KHZ_R1-1187006835-4096.hdf5']\n"
          ],
          "name": "stdout"
        }
      ]
    }
  ]
}