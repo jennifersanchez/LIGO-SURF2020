{
 "cells": [
  {
   "cell_type": "code",
   "execution_count": 1,
   "metadata": {},
   "outputs": [],
   "source": [
    "# import useful python packages\n",
    "%matplotlib inline\n",
    "import numpy as np\n",
    "import matplotlib.pyplot as plt\n",
    "import seaborn as sns\n",
    "\n",
    "import h5py"
   ]
  },
  {
   "cell_type": "code",
   "execution_count": 2,
   "metadata": {},
   "outputs": [
    {
     "name": "stdout",
     "output_type": "stream",
     "text": [
      "approximants: <KeysViewHDF5 ['IMRPhenomD', 'IMRPhenomHM', 'IMRPhenomPv3', 'IMRPhenomPv3HM', 'NRHybSur3dq8', 'SEOBNRv4HM_ROM', 'SEOBNRv4P', 'SEOBNRv4PHM', 'SEOBNRv4_ROM', 'combined', 'version']>\n"
     ]
    }
   ],
   "source": [
    "file_name = \"GW190412_posterior_samples.h5\"\n",
    "data = h5py.File(file_name,'r')\n",
    "\n",
    "print('approximants:',data.keys())"
   ]
  },
  {
   "cell_type": "code",
   "execution_count": 3,
   "metadata": {},
   "outputs": [
    {
     "name": "stdout",
     "output_type": "stream",
     "text": [
      "Top-level data structures: <KeysViewHDF5 ['approximant', 'calibration_envelope', 'config_file', 'injection_data', 'meta_data', 'posterior_samples', 'priors', 'psds', 'version']>\n"
     ]
    }
   ],
   "source": [
    "print('Top-level data structures:',data['IMRPhenomPv3HM'].keys())"
   ]
  },
  {
   "cell_type": "code",
   "execution_count": 4,
   "metadata": {
    "collapsed": true
   },
   "outputs": [
    {
     "name": "stdout",
     "output_type": "stream",
     "text": [
      "data structures in posterior_samples: [('H1_matched_filter_snr', '<f8'), ('H1_optimal_snr', '<f8'), ('L1_matched_filter_snr', '<f8'), ('L1_optimal_snr', '<f8'), ('V1_matched_filter_snr', '<f8'), ('V1_optimal_snr', '<f8'), ('a_1', '<f8'), ('a_2', '<f8'), ('chi_1_in_plane', '<f8'), ('chi_2_in_plane', '<f8'), ('chi_eff', '<f8'), ('chi_p', '<f8'), ('chirp_mass', '<f8'), ('chirp_mass_source', '<f8'), ('comoving_distance', '<f8'), ('cos_theta_jn', '<f8'), ('cos_tilt_1', '<f8'), ('cos_tilt_2', '<f8'), ('dec', '<f8'), ('geocent_time', '<f8'), ('log_likelihood', '<f8'), ('luminosity_distance', '<f8'), ('mass_1', '<f8'), ('mass_1_source', '<f8'), ('mass_2', '<f8'), ('mass_2_source', '<f8'), ('mass_ratio', '<f8'), ('phase', '<f8'), ('phi_1', '<f8'), ('phi_12', '<f8'), ('phi_2', '<f8'), ('phi_jl', '<f8'), ('psi', '<f8'), ('ra', '<f8'), ('recalib_H1_amplitude_0', '<f8'), ('recalib_H1_amplitude_1', '<f8'), ('recalib_H1_amplitude_2', '<f8'), ('recalib_H1_amplitude_3', '<f8'), ('recalib_H1_amplitude_4', '<f8'), ('recalib_H1_amplitude_5', '<f8'), ('recalib_H1_amplitude_6', '<f8'), ('recalib_H1_amplitude_7', '<f8'), ('recalib_H1_amplitude_8', '<f8'), ('recalib_H1_amplitude_9', '<f8'), ('recalib_H1_frequency_0', '<f8'), ('recalib_H1_frequency_1', '<f8'), ('recalib_H1_frequency_2', '<f8'), ('recalib_H1_frequency_3', '<f8'), ('recalib_H1_frequency_4', '<f8'), ('recalib_H1_frequency_5', '<f8'), ('recalib_H1_frequency_6', '<f8'), ('recalib_H1_frequency_7', '<f8'), ('recalib_H1_frequency_8', '<f8'), ('recalib_H1_frequency_9', '<f8'), ('recalib_H1_phase_0', '<f8'), ('recalib_H1_phase_1', '<f8'), ('recalib_H1_phase_2', '<f8'), ('recalib_H1_phase_3', '<f8'), ('recalib_H1_phase_4', '<f8'), ('recalib_H1_phase_5', '<f8'), ('recalib_H1_phase_6', '<f8'), ('recalib_H1_phase_7', '<f8'), ('recalib_H1_phase_8', '<f8'), ('recalib_H1_phase_9', '<f8'), ('recalib_L1_amplitude_0', '<f8'), ('recalib_L1_amplitude_1', '<f8'), ('recalib_L1_amplitude_2', '<f8'), ('recalib_L1_amplitude_3', '<f8'), ('recalib_L1_amplitude_4', '<f8'), ('recalib_L1_amplitude_5', '<f8'), ('recalib_L1_amplitude_6', '<f8'), ('recalib_L1_amplitude_7', '<f8'), ('recalib_L1_amplitude_8', '<f8'), ('recalib_L1_amplitude_9', '<f8'), ('recalib_L1_frequency_0', '<f8'), ('recalib_L1_frequency_1', '<f8'), ('recalib_L1_frequency_2', '<f8'), ('recalib_L1_frequency_3', '<f8'), ('recalib_L1_frequency_4', '<f8'), ('recalib_L1_frequency_5', '<f8'), ('recalib_L1_frequency_6', '<f8'), ('recalib_L1_frequency_7', '<f8'), ('recalib_L1_frequency_8', '<f8'), ('recalib_L1_frequency_9', '<f8'), ('recalib_L1_phase_0', '<f8'), ('recalib_L1_phase_1', '<f8'), ('recalib_L1_phase_2', '<f8'), ('recalib_L1_phase_3', '<f8'), ('recalib_L1_phase_4', '<f8'), ('recalib_L1_phase_5', '<f8'), ('recalib_L1_phase_6', '<f8'), ('recalib_L1_phase_7', '<f8'), ('recalib_L1_phase_8', '<f8'), ('recalib_L1_phase_9', '<f8'), ('recalib_V1_amplitude_0', '<f8'), ('recalib_V1_amplitude_1', '<f8'), ('recalib_V1_amplitude_2', '<f8'), ('recalib_V1_amplitude_3', '<f8'), ('recalib_V1_amplitude_4', '<f8'), ('recalib_V1_amplitude_5', '<f8'), ('recalib_V1_amplitude_6', '<f8'), ('recalib_V1_amplitude_7', '<f8'), ('recalib_V1_amplitude_8', '<f8'), ('recalib_V1_amplitude_9', '<f8'), ('recalib_V1_frequency_0', '<f8'), ('recalib_V1_frequency_1', '<f8'), ('recalib_V1_frequency_2', '<f8'), ('recalib_V1_frequency_3', '<f8'), ('recalib_V1_frequency_4', '<f8'), ('recalib_V1_frequency_5', '<f8'), ('recalib_V1_frequency_6', '<f8'), ('recalib_V1_frequency_7', '<f8'), ('recalib_V1_frequency_8', '<f8'), ('recalib_V1_frequency_9', '<f8'), ('recalib_V1_phase_0', '<f8'), ('recalib_V1_phase_1', '<f8'), ('recalib_V1_phase_2', '<f8'), ('recalib_V1_phase_3', '<f8'), ('recalib_V1_phase_4', '<f8'), ('recalib_V1_phase_5', '<f8'), ('recalib_V1_phase_6', '<f8'), ('recalib_V1_phase_7', '<f8'), ('recalib_V1_phase_8', '<f8'), ('recalib_V1_phase_9', '<f8'), ('symmetric_mass_ratio', '<f8'), ('theta_jn', '<f8'), ('tilt_1', '<f8'), ('tilt_2', '<f8'), ('time_jitter', '<f8'), ('total_mass', '<f8'), ('total_mass_source', '<f8'), ('H1_matched_filter_abs_snr', '<f8'), ('H1_matched_filter_snr_angle', '<f8'), ('L1_matched_filter_abs_snr', '<f8'), ('L1_matched_filter_snr_angle', '<f8'), ('V1_matched_filter_abs_snr', '<f8'), ('V1_matched_filter_snr_angle', '<f8'), ('inverted_mass_ratio', '<f8'), ('iota', '<f8'), ('spin_1x', '<f8'), ('spin_1y', '<f8'), ('spin_1z', '<f8'), ('spin_2x', '<f8'), ('spin_2y', '<f8'), ('spin_2z', '<f8'), ('final_spin', '<f8'), ('peak_luminosity', '<f8'), ('final_mass', '<f8'), ('redshift', '<f8'), ('final_mass_source', '<f8'), ('radiated_energy', '<f8'), ('network_optimal_snr', '<f8'), ('network_matched_filter_snr', '<f8'), ('cos_iota', '<f8'), ('final_spin_non_evolved', '<f8'), ('peak_luminosity_non_evolved', '<f8'), ('final_mass_non_evolved', '<f8'), ('final_mass_source_non_evolved', '<f8'), ('radiated_energy_non_evolved', '<f8'), ('H1_time', '<f8'), ('L1_time', '<f8'), ('V1_time', '<f8')]\n",
      "parameter names: ['H1_matched_filter_snr', 'H1_optimal_snr', 'L1_matched_filter_snr', 'L1_optimal_snr', 'V1_matched_filter_snr', 'V1_optimal_snr', 'a_1', 'a_2', 'chi_1_in_plane', 'chi_2_in_plane', 'chi_eff', 'chi_p', 'chirp_mass', 'chirp_mass_source', 'comoving_distance', 'cos_theta_jn', 'cos_tilt_1', 'cos_tilt_2', 'dec', 'geocent_time', 'log_likelihood', 'luminosity_distance', 'mass_1', 'mass_1_source', 'mass_2', 'mass_2_source', 'mass_ratio', 'phase', 'phi_1', 'phi_12', 'phi_2', 'phi_jl', 'psi', 'ra', 'recalib_H1_amplitude_0', 'recalib_H1_amplitude_1', 'recalib_H1_amplitude_2', 'recalib_H1_amplitude_3', 'recalib_H1_amplitude_4', 'recalib_H1_amplitude_5', 'recalib_H1_amplitude_6', 'recalib_H1_amplitude_7', 'recalib_H1_amplitude_8', 'recalib_H1_amplitude_9', 'recalib_H1_frequency_0', 'recalib_H1_frequency_1', 'recalib_H1_frequency_2', 'recalib_H1_frequency_3', 'recalib_H1_frequency_4', 'recalib_H1_frequency_5', 'recalib_H1_frequency_6', 'recalib_H1_frequency_7', 'recalib_H1_frequency_8', 'recalib_H1_frequency_9', 'recalib_H1_phase_0', 'recalib_H1_phase_1', 'recalib_H1_phase_2', 'recalib_H1_phase_3', 'recalib_H1_phase_4', 'recalib_H1_phase_5', 'recalib_H1_phase_6', 'recalib_H1_phase_7', 'recalib_H1_phase_8', 'recalib_H1_phase_9', 'recalib_L1_amplitude_0', 'recalib_L1_amplitude_1', 'recalib_L1_amplitude_2', 'recalib_L1_amplitude_3', 'recalib_L1_amplitude_4', 'recalib_L1_amplitude_5', 'recalib_L1_amplitude_6', 'recalib_L1_amplitude_7', 'recalib_L1_amplitude_8', 'recalib_L1_amplitude_9', 'recalib_L1_frequency_0', 'recalib_L1_frequency_1', 'recalib_L1_frequency_2', 'recalib_L1_frequency_3', 'recalib_L1_frequency_4', 'recalib_L1_frequency_5', 'recalib_L1_frequency_6', 'recalib_L1_frequency_7', 'recalib_L1_frequency_8', 'recalib_L1_frequency_9', 'recalib_L1_phase_0', 'recalib_L1_phase_1', 'recalib_L1_phase_2', 'recalib_L1_phase_3', 'recalib_L1_phase_4', 'recalib_L1_phase_5', 'recalib_L1_phase_6', 'recalib_L1_phase_7', 'recalib_L1_phase_8', 'recalib_L1_phase_9', 'recalib_V1_amplitude_0', 'recalib_V1_amplitude_1', 'recalib_V1_amplitude_2', 'recalib_V1_amplitude_3', 'recalib_V1_amplitude_4', 'recalib_V1_amplitude_5', 'recalib_V1_amplitude_6', 'recalib_V1_amplitude_7', 'recalib_V1_amplitude_8', 'recalib_V1_amplitude_9', 'recalib_V1_frequency_0', 'recalib_V1_frequency_1', 'recalib_V1_frequency_2', 'recalib_V1_frequency_3', 'recalib_V1_frequency_4', 'recalib_V1_frequency_5', 'recalib_V1_frequency_6', 'recalib_V1_frequency_7', 'recalib_V1_frequency_8', 'recalib_V1_frequency_9', 'recalib_V1_phase_0', 'recalib_V1_phase_1', 'recalib_V1_phase_2', 'recalib_V1_phase_3', 'recalib_V1_phase_4', 'recalib_V1_phase_5', 'recalib_V1_phase_6', 'recalib_V1_phase_7', 'recalib_V1_phase_8', 'recalib_V1_phase_9', 'symmetric_mass_ratio', 'theta_jn', 'tilt_1', 'tilt_2', 'time_jitter', 'total_mass', 'total_mass_source', 'H1_matched_filter_abs_snr', 'H1_matched_filter_snr_angle', 'L1_matched_filter_abs_snr', 'L1_matched_filter_snr_angle', 'V1_matched_filter_abs_snr', 'V1_matched_filter_snr_angle', 'inverted_mass_ratio', 'iota', 'spin_1x', 'spin_1y', 'spin_1z', 'spin_2x', 'spin_2y', 'spin_2z', 'final_spin', 'peak_luminosity', 'final_mass', 'redshift', 'final_mass_source', 'radiated_energy', 'network_optimal_snr', 'network_matched_filter_snr', 'cos_iota', 'final_spin_non_evolved', 'peak_luminosity_non_evolved', 'final_mass_non_evolved', 'final_mass_source_non_evolved', 'radiated_energy_non_evolved', 'H1_time', 'L1_time', 'V1_time']\n"
     ]
    }
   ],
   "source": [
    "posterior_samples = data['IMRPhenomPv3HM']['posterior_samples']\n",
    "print('data structures in posterior_samples:',posterior_samples.dtype)\n",
    "pnames = [item for item in posterior_samples.dtype.names]\n",
    "print('parameter names:',pnames)"
   ]
  },
  {
   "cell_type": "code",
   "execution_count": 5,
   "metadata": {},
   "outputs": [],
   "source": [
    "chi_eff = posterior_samples['chi_eff']\n",
    "luminosity_distance = posterior_samples['luminosity_distance']\n",
    "mass1_source = posterior_samples['mass_1_source']\n",
    "mass2_source = posterior_samples['mass_2_source']\n",
    "spin1x = posterior_samples['spin_1x']\n",
    "spin1y = posterior_samples['spin_1y']\n",
    "spin1z = posterior_samples['spin_1z']\n",
    "spin2x = posterior_samples['spin_2x']\n",
    "spin2y = posterior_samples['spin_2y']\n",
    "spin2z = posterior_samples['spin_2z']\n",
    "phase = posterior_samples['phase']\n",
    "inclination = posterior_samples['theta_jn']\n",
    "phase = posterior_samples['phase']\n",
    "declination = posterior_samples['dec']\n",
    "right_ascension = posterior_samples['ra']\n",
    "polarization = posterior_samples['psi']\n",
    "L1_time = posterior_samples['L1_time']"
   ]
  },
  {
   "cell_type": "code",
   "execution_count": 10,
   "metadata": {
    "collapsed": true
   },
   "outputs": [
    {
     "name": "stdout",
     "output_type": "stream",
     "text": [
      "mass1= [28.22280558 25.61605005 27.66500678 ... 25.98714976 29.13545946\n",
      " 23.66578178]\n",
      "mass2= [ 9.25864931  9.39400839  9.00431269 ...  9.68061985  8.49025305\n",
      " 10.89351455]\n",
      "spin1x= [ 0.43060326  0.50937488  0.15418263 ... -0.20486569 -0.27679917\n",
      "  0.07003505]\n",
      "spin1y= [-0.09009165  0.19625073 -0.01147324 ... -0.24662833 -0.11475251\n",
      " -0.02917548]\n",
      "spin1z= [0.25875793 0.13526817 0.0378343  ... 0.04861914 0.2315353\n",
      " 0.01616858]\n",
      "spin2x= [-0.47679078  0.30761875 -0.23162433 ... -0.09999956  0.40041279\n",
      " -0.67953979]\n",
      "spin2y= [-0.03956567  0.52984967 -0.17377468 ...  0.34400083 -0.03545844\n",
      " -0.39481653]\n",
      "spin2z= [0.31646682 0.36061229 0.81973006 ... 0.55179025 0.02377702\n",
      " 0.28021382]\n",
      "luminosity_distance= [790.25012318 780.88756846 642.82487332 ... 818.44329852\n",
      " 739.54370062 704.37346259]\n",
      "inclination= [0.80069364 0.58548759 0.87288638 ... 0.87085119 0.76138547\n",
      " 1.07823529]\n",
      "phase= [2.88811894 2.1059258  5.42677685 ... 0.30850151 6.22651101\n",
      " 3.46028594]\n",
      "right_ascension= [3.82671121 3.79395226 3.8279273  ... 3.81327748 3.8251334\n",
      " 3.82556619]\n",
      "dec= [0.61801818 0.61273927 0.61854842 ... 0.64201739 0.61628159\n",
      " 0.61160555]\n",
      "psi = [2.51343091 2.76032461 2.19421679 ... 2.13042904 2.9181251\n",
      " 2.19892735]\n",
      "L1_time=  [1.23908226e+09 1.23908226e+09 1.23908226e+09 ... 1.23908226e+09\n",
      " 1.23908226e+09 1.23908226e+09]\n"
     ]
    }
   ],
   "source": [
    "print('mass1=',mass1_source)\n",
    "print('mass2=',mass2_source)\n",
    "print('spin1x=',spin1x)\n",
    "print('spin1y=',spin1y)\n",
    "print('spin1z=',spin1z)\n",
    "print('spin2x=',spin2x)\n",
    "print('spin2y=',spin2y)\n",
    "print('spin2z=',spin2z)\n",
    "print('luminosity_distance=',luminosity_distance)\n",
    "print('inclination=', inclination)\n",
    "print('phase=', phase)\n",
    "print('right_ascension=', right_ascension)\n",
    "print('dec=',declination)\n",
    "print('psi =', polarization)\n",
    "print('L1_time= ', L1_time)"
   ]
  },
  {
   "cell_type": "code",
   "execution_count": 7,
   "metadata": {},
   "outputs": [
    {
     "name": "stdout",
     "output_type": "stream",
     "text": [
      "[0.00000e+00 1.25000e-01 2.50000e-01 ... 2.04738e+03 2.04750e+03\n",
      " 2.04762e+03] [2.50000e-01 2.50000e-01 2.50000e-01 ... 4.04459e-47 4.03768e-47\n",
      " 4.03101e-47]\n"
     ]
    }
   ],
   "source": [
    "import h5py\n",
    "file_name = \"GW190412_posterior_samples.h5\"\n",
    "data = h5py.File(file_name, 'r')\n",
    "f_eob, psd  = data['IMRPhenomPv3HM']['psds']['L1'][:].T # adding [:] returns a numpy array\n",
    "print(f_eob, psd)       "
   ]
  },
  {
   "cell_type": "code",
   "execution_count": 8,
   "metadata": {},
   "outputs": [
    {
     "name": "stdout",
     "output_type": "stream",
     "text": [
      "data structures in posterior_samples: [('luminosity_distance', '<f8'), ('geocent_time', '<f8'), ('recalib_H1_frequency_0', '<f8'), ('recalib_H1_frequency_1', '<f8'), ('recalib_H1_frequency_2', '<f8'), ('recalib_H1_frequency_3', '<f8'), ('recalib_H1_frequency_4', '<f8'), ('recalib_H1_frequency_5', '<f8'), ('recalib_H1_frequency_6', '<f8'), ('recalib_H1_frequency_7', '<f8'), ('recalib_H1_frequency_8', '<f8'), ('recalib_H1_frequency_9', '<f8'), ('recalib_L1_frequency_0', '<f8'), ('recalib_L1_frequency_1', '<f8'), ('recalib_L1_frequency_2', '<f8'), ('recalib_L1_frequency_3', '<f8'), ('recalib_L1_frequency_4', '<f8'), ('recalib_L1_frequency_5', '<f8'), ('recalib_L1_frequency_6', '<f8'), ('recalib_L1_frequency_7', '<f8'), ('recalib_L1_frequency_8', '<f8'), ('recalib_L1_frequency_9', '<f8'), ('recalib_V1_frequency_0', '<f8'), ('recalib_V1_frequency_1', '<f8'), ('recalib_V1_frequency_2', '<f8'), ('recalib_V1_frequency_3', '<f8'), ('recalib_V1_frequency_4', '<f8'), ('recalib_V1_frequency_5', '<f8'), ('recalib_V1_frequency_6', '<f8'), ('recalib_V1_frequency_7', '<f8'), ('recalib_V1_frequency_8', '<f8'), ('recalib_V1_frequency_9', '<f8'), ('mass_ratio', '<f8'), ('chirp_mass', '<f8'), ('dec', '<f8'), ('ra', '<f8'), ('cos_theta_jn', '<f8'), ('psi', '<f8'), ('phase', '<f8'), ('a_1', '<f8'), ('a_2', '<f8'), ('tilt_1', '<f8'), ('tilt_2', '<f8'), ('phi_12', '<f8'), ('phi_jl', '<f8'), ('recalib_H1_amplitude_0', '<f8'), ('recalib_H1_amplitude_1', '<f8'), ('recalib_H1_amplitude_2', '<f8'), ('recalib_H1_amplitude_3', '<f8'), ('recalib_H1_amplitude_4', '<f8'), ('recalib_H1_amplitude_5', '<f8'), ('recalib_H1_amplitude_6', '<f8'), ('recalib_H1_amplitude_7', '<f8'), ('recalib_H1_amplitude_8', '<f8'), ('recalib_H1_amplitude_9', '<f8'), ('recalib_H1_phase_0', '<f8'), ('recalib_H1_phase_1', '<f8'), ('recalib_H1_phase_2', '<f8'), ('recalib_H1_phase_3', '<f8'), ('recalib_H1_phase_4', '<f8'), ('recalib_H1_phase_5', '<f8'), ('recalib_H1_phase_6', '<f8'), ('recalib_H1_phase_7', '<f8'), ('recalib_H1_phase_8', '<f8'), ('recalib_H1_phase_9', '<f8'), ('recalib_L1_amplitude_0', '<f8'), ('recalib_L1_amplitude_1', '<f8'), ('recalib_L1_amplitude_2', '<f8'), ('recalib_L1_amplitude_3', '<f8'), ('recalib_L1_amplitude_4', '<f8'), ('recalib_L1_amplitude_5', '<f8'), ('recalib_L1_amplitude_6', '<f8'), ('recalib_L1_amplitude_7', '<f8'), ('recalib_L1_amplitude_8', '<f8'), ('recalib_L1_amplitude_9', '<f8'), ('recalib_L1_phase_0', '<f8'), ('recalib_L1_phase_1', '<f8'), ('recalib_L1_phase_2', '<f8'), ('recalib_L1_phase_3', '<f8'), ('recalib_L1_phase_4', '<f8'), ('recalib_L1_phase_5', '<f8'), ('recalib_L1_phase_6', '<f8'), ('recalib_L1_phase_7', '<f8'), ('recalib_L1_phase_8', '<f8'), ('recalib_L1_phase_9', '<f8'), ('recalib_V1_amplitude_0', '<f8'), ('recalib_V1_amplitude_1', '<f8'), ('recalib_V1_amplitude_2', '<f8'), ('recalib_V1_amplitude_3', '<f8'), ('recalib_V1_amplitude_4', '<f8'), ('recalib_V1_amplitude_5', '<f8'), ('recalib_V1_amplitude_6', '<f8'), ('recalib_V1_amplitude_7', '<f8'), ('recalib_V1_amplitude_8', '<f8'), ('recalib_V1_amplitude_9', '<f8'), ('recalib_V1_phase_0', '<f8'), ('recalib_V1_phase_1', '<f8'), ('recalib_V1_phase_2', '<f8'), ('recalib_V1_phase_3', '<f8'), ('recalib_V1_phase_4', '<f8'), ('recalib_V1_phase_5', '<f8'), ('recalib_V1_phase_6', '<f8'), ('recalib_V1_phase_7', '<f8'), ('recalib_V1_phase_8', '<f8'), ('recalib_V1_phase_9', '<f8'), ('time_jitter', '<f8'), ('log_likelihood', '<f8'), ('H1_matched_filter_snr', '<f8'), ('H1_optimal_snr', '<f8'), ('L1_matched_filter_snr', '<f8'), ('L1_optimal_snr', '<f8'), ('V1_matched_filter_snr', '<f8'), ('V1_optimal_snr', '<f8'), ('total_mass', '<f8'), ('mass_1', '<f8'), ('mass_2', '<f8'), ('theta_jn', '<f8'), ('symmetric_mass_ratio', '<f8'), ('cos_tilt_1', '<f8'), ('cos_tilt_2', '<f8'), ('comoving_distance', '<f8'), ('mass_1_source', '<f8'), ('mass_2_source', '<f8'), ('chirp_mass_source', '<f8'), ('total_mass_source', '<f8'), ('iota', '<f8'), ('spin_1x', '<f8'), ('spin_1y', '<f8'), ('spin_1z', '<f8'), ('spin_2x', '<f8'), ('spin_2y', '<f8'), ('spin_2z', '<f8'), ('phi_1', '<f8'), ('phi_2', '<f8'), ('chi_eff', '<f8'), ('chi_1_in_plane', '<f8'), ('chi_2_in_plane', '<f8'), ('chi_p', '<f8'), ('H1_matched_filter_abs_snr', '<f8'), ('H1_matched_filter_snr_angle', '<f8'), ('L1_matched_filter_abs_snr', '<f8'), ('L1_matched_filter_snr_angle', '<f8'), ('V1_matched_filter_abs_snr', '<f8'), ('V1_matched_filter_snr_angle', '<f8'), ('inverted_mass_ratio', '<f8'), ('final_spin', '<f8'), ('peak_luminosity', '<f8'), ('final_mass', '<f8'), ('redshift', '<f8'), ('final_mass_source', '<f8'), ('radiated_energy', '<f8'), ('H1_time', '<f8'), ('L1_time', '<f8'), ('V1_time', '<f8'), ('network_optimal_snr', '<f8'), ('network_matched_filter_snr', '<f8'), ('cos_iota', '<f8'), ('final_spin_non_evolved', '<f8'), ('peak_luminosity_non_evolved', '<f8'), ('final_mass_non_evolved', '<f8'), ('final_mass_source_non_evolved', '<f8'), ('radiated_energy_non_evolved', '<f8')]\n",
      "parameter names: ['luminosity_distance', 'geocent_time', 'recalib_H1_frequency_0', 'recalib_H1_frequency_1', 'recalib_H1_frequency_2', 'recalib_H1_frequency_3', 'recalib_H1_frequency_4', 'recalib_H1_frequency_5', 'recalib_H1_frequency_6', 'recalib_H1_frequency_7', 'recalib_H1_frequency_8', 'recalib_H1_frequency_9', 'recalib_L1_frequency_0', 'recalib_L1_frequency_1', 'recalib_L1_frequency_2', 'recalib_L1_frequency_3', 'recalib_L1_frequency_4', 'recalib_L1_frequency_5', 'recalib_L1_frequency_6', 'recalib_L1_frequency_7', 'recalib_L1_frequency_8', 'recalib_L1_frequency_9', 'recalib_V1_frequency_0', 'recalib_V1_frequency_1', 'recalib_V1_frequency_2', 'recalib_V1_frequency_3', 'recalib_V1_frequency_4', 'recalib_V1_frequency_5', 'recalib_V1_frequency_6', 'recalib_V1_frequency_7', 'recalib_V1_frequency_8', 'recalib_V1_frequency_9', 'mass_ratio', 'chirp_mass', 'dec', 'ra', 'cos_theta_jn', 'psi', 'phase', 'a_1', 'a_2', 'tilt_1', 'tilt_2', 'phi_12', 'phi_jl', 'recalib_H1_amplitude_0', 'recalib_H1_amplitude_1', 'recalib_H1_amplitude_2', 'recalib_H1_amplitude_3', 'recalib_H1_amplitude_4', 'recalib_H1_amplitude_5', 'recalib_H1_amplitude_6', 'recalib_H1_amplitude_7', 'recalib_H1_amplitude_8', 'recalib_H1_amplitude_9', 'recalib_H1_phase_0', 'recalib_H1_phase_1', 'recalib_H1_phase_2', 'recalib_H1_phase_3', 'recalib_H1_phase_4', 'recalib_H1_phase_5', 'recalib_H1_phase_6', 'recalib_H1_phase_7', 'recalib_H1_phase_8', 'recalib_H1_phase_9', 'recalib_L1_amplitude_0', 'recalib_L1_amplitude_1', 'recalib_L1_amplitude_2', 'recalib_L1_amplitude_3', 'recalib_L1_amplitude_4', 'recalib_L1_amplitude_5', 'recalib_L1_amplitude_6', 'recalib_L1_amplitude_7', 'recalib_L1_amplitude_8', 'recalib_L1_amplitude_9', 'recalib_L1_phase_0', 'recalib_L1_phase_1', 'recalib_L1_phase_2', 'recalib_L1_phase_3', 'recalib_L1_phase_4', 'recalib_L1_phase_5', 'recalib_L1_phase_6', 'recalib_L1_phase_7', 'recalib_L1_phase_8', 'recalib_L1_phase_9', 'recalib_V1_amplitude_0', 'recalib_V1_amplitude_1', 'recalib_V1_amplitude_2', 'recalib_V1_amplitude_3', 'recalib_V1_amplitude_4', 'recalib_V1_amplitude_5', 'recalib_V1_amplitude_6', 'recalib_V1_amplitude_7', 'recalib_V1_amplitude_8', 'recalib_V1_amplitude_9', 'recalib_V1_phase_0', 'recalib_V1_phase_1', 'recalib_V1_phase_2', 'recalib_V1_phase_3', 'recalib_V1_phase_4', 'recalib_V1_phase_5', 'recalib_V1_phase_6', 'recalib_V1_phase_7', 'recalib_V1_phase_8', 'recalib_V1_phase_9', 'time_jitter', 'log_likelihood', 'H1_matched_filter_snr', 'H1_optimal_snr', 'L1_matched_filter_snr', 'L1_optimal_snr', 'V1_matched_filter_snr', 'V1_optimal_snr', 'total_mass', 'mass_1', 'mass_2', 'theta_jn', 'symmetric_mass_ratio', 'cos_tilt_1', 'cos_tilt_2', 'comoving_distance', 'mass_1_source', 'mass_2_source', 'chirp_mass_source', 'total_mass_source', 'iota', 'spin_1x', 'spin_1y', 'spin_1z', 'spin_2x', 'spin_2y', 'spin_2z', 'phi_1', 'phi_2', 'chi_eff', 'chi_1_in_plane', 'chi_2_in_plane', 'chi_p', 'H1_matched_filter_abs_snr', 'H1_matched_filter_snr_angle', 'L1_matched_filter_abs_snr', 'L1_matched_filter_snr_angle', 'V1_matched_filter_abs_snr', 'V1_matched_filter_snr_angle', 'inverted_mass_ratio', 'final_spin', 'peak_luminosity', 'final_mass', 'redshift', 'final_mass_source', 'radiated_energy', 'H1_time', 'L1_time', 'V1_time', 'network_optimal_snr', 'network_matched_filter_snr', 'cos_iota', 'final_spin_non_evolved', 'peak_luminosity_non_evolved', 'final_mass_non_evolved', 'final_mass_source_non_evolved', 'radiated_energy_non_evolved']\n"
     ]
    }
   ],
   "source": [
    "posterior_samples_2 = data['SEOBNRv4PHM']['posterior_samples']\n",
    "print('data structures in posterior_samples:',posterior_samples_2.dtype)\n",
    "pnames_2 = [item for item in posterior_samples_2.dtype.names]\n",
    "print('parameter names:',pnames_2)"
   ]
  },
  {
   "cell_type": "code",
   "execution_count": 12,
   "metadata": {},
   "outputs": [],
   "source": [
    "luminosity_distance_2 = posterior_samples_2['luminosity_distance']\n",
    "mass1_source_2 = posterior_samples_2['mass_1_source']\n",
    "mass2_source_2 = posterior_samples_2['mass_2_source']\n",
    "spin1x_2 = posterior_samples_2['spin_1x']\n",
    "spin1y_2 = posterior_samples_2['spin_1y']\n",
    "spin1z_2 = posterior_samples_2['spin_1z']\n",
    "spin2x_2 = posterior_samples_2['spin_2x']\n",
    "spin2y_2 = posterior_samples_2['spin_2y']\n",
    "spin2z_2 = posterior_samples_2['spin_2z']\n",
    "phase_2 = posterior_samples_2['phase']\n",
    "inclination_2 = posterior_samples_2['theta_jn']\n",
    "phase_2 = posterior_samples_2['phase']\n",
    "declination_2 = posterior_samples_2['dec']\n",
    "right_ascension_2 = posterior_samples_2['ra']\n",
    "polarization_2 = posterior_samples_2['psi']\n",
    "L1_time_2 = posterior_samples_2['L1_time']"
   ]
  },
  {
   "cell_type": "code",
   "execution_count": 13,
   "metadata": {},
   "outputs": [
    {
     "name": "stdout",
     "output_type": "stream",
     "text": [
      "mass1= [32.05633442 35.15066833 31.99775592 ... 34.40317575 34.54010168\n",
      " 33.3246474 ]\n",
      "mass2= [8.00038009 7.33566877 8.17578203 ... 7.3634406  7.31517037\n",
      " 8.18426847]\n",
      "spin1x= [-0.10889602 -0.33734216  0.06783926 ... -0.36432329  0.22655061\n",
      " -0.03847104]\n",
      "spin1y= [-1.48702839e-01 -9.27938910e-02  2.36259718e-01 ...\n",
      "  2.26521087e-01  4.50003061e-04  5.26948500e-01]\n",
      "spin1z= [0.3318532  0.39897958 0.38655947 ... 0.34101461 0.35484397\n",
      " 0.42422099]\n",
      "spin2x= [ 0.18734649 -0.43872014  0.40358184 ...  0.14376345 -0.10392705\n",
      "  0.31810619]\n",
      "spin2y= [ 0.00852659 -0.0167813  -0.24719499 ...  0.04473715 -0.04678023\n",
      " -0.56797395]\n",
      "spin2z= [ 0.35748389 -0.00578114 -0.29787385 ...  0.34494216  0.08346254\n",
      " -0.00628276]\n",
      "luminosity_distance= [790.25012318 780.88756846 642.82487332 ... 818.44329852\n",
      " 739.54370062 704.37346259]\n",
      "inclination= [0.7065803  0.70582306 0.84779015 ... 0.54862804 0.70957506\n",
      " 0.62765124]\n",
      "phase= [3.17172366 3.66593936 6.13392289 ... 4.59639749 0.84811402\n",
      " 5.0489433 ]\n",
      "right_ascension= [3.82762546 3.82345357 3.82705306 ... 3.81634616 3.79942847\n",
      " 3.80709725]\n",
      "dec= [0.63883578 0.64137197 0.62274436 ... 0.64244227 0.62682068\n",
      " 0.64265828]\n",
      "psi = [2.60893669 2.60662752 3.00274909 ... 2.79239193 2.43690574\n",
      " 2.34961688]\n",
      "L1_time=  [1.23908226e+09 1.23908226e+09 1.23908226e+09 ... 1.23908226e+09\n",
      " 1.23908226e+09 1.23908226e+09]\n"
     ]
    }
   ],
   "source": [
    "print('mass1=',mass1_source_2)\n",
    "print('mass2=',mass2_source_2)\n",
    "print('spin1x=',spin1x_2)\n",
    "print('spin1y=',spin1y_2)\n",
    "print('spin1z=',spin1z_2)\n",
    "print('spin2x=',spin2x_2)\n",
    "print('spin2y=',spin2y_2)\n",
    "print('spin2z=',spin2z_2)\n",
    "print('luminosity_distance=',luminosity_distance_2)\n",
    "print('inclination=', inclination_2)\n",
    "print('phase=', phase_2)\n",
    "print('right_ascension=', right_ascension_2)\n",
    "print('dec=',declination_2)\n",
    "print('psi =', polarization_2)\n",
    "print('L1_time= ', L1_time_2)"
   ]
  },
  {
   "cell_type": "code",
   "execution_count": 6,
   "metadata": {},
   "outputs": [],
   "source": [
    "#imports\n",
    "from gwpy.timeseries import TimeSeries\n",
    "from scipy.signal import get_window\n",
    "import matplotlib.pyplot as plt\n",
    "import numpy as np"
   ]
  },
  {
   "cell_type": "code",
   "execution_count": 32,
   "metadata": {},
   "outputs": [
    {
     "name": "stdout",
     "output_type": "stream",
     "text": [
      "0.7875563618136739\n",
      "0.9700209320022342\n",
      "0.6010987010017584\n",
      "0.868494828529061\n",
      "0.6837212158622712\n",
      "0.6990856387061779\n",
      "0.8519194070738679\n",
      "0.5611556980648207\n",
      "0.6813480397657073\n",
      "0.8071550570262553\n",
      "0.7664312357822041\n",
      "0.6385873768492393\n",
      "0.6152693303713016\n",
      "0.8359810693223793\n",
      "0.9955749691786935\n",
      "0.8457708222649026\n",
      "0.971928426115264\n",
      "0.9598493394719753\n",
      "0.8833805549039454\n",
      "0.9400292561950513\n",
      "0.7644235503777344\n",
      "0.5842841171971553\n",
      "0.9776141200044423\n",
      "0.8266985474947498\n",
      "0.762136368733811\n",
      "0.9079956713550478\n",
      "0.8554254128361788\n",
      "0.9612212114163965\n",
      "0.789973429568404\n",
      "0.977580655374439\n",
      "0.9151547666147894\n",
      "0.9389260985122014\n",
      "0.7761415995457299\n",
      "0.6006021155900955\n",
      "0.9214633369157994\n",
      "0.9818938000312432\n",
      "0.7584416084430511\n",
      "0.7735307658569952\n",
      "0.9863747864801601\n",
      "0.9654333506513545\n",
      "0.9428966317654339\n",
      "0.6768094916006133\n",
      "0.927503463777837\n",
      "0.6583185485068849\n",
      "0.9267916191730834\n",
      "0.8251171304922124\n",
      "0.7944420347199918\n",
      "0.9582412530754363\n",
      "0.8444830740279385\n",
      "0.7842906269637545\n",
      "0.9379800607949464\n",
      "0.8668542258252123\n",
      "0.9639528751527457\n",
      "0.7520594040289251\n",
      "0.7838507744229742\n",
      "0.877296222118561\n",
      "0.8468711597718477\n",
      "0.9299139849359861\n",
      "0.8704584815989646\n",
      "0.945153692208863\n",
      "0.9776452043256114\n",
      "0.9498218938366559\n",
      "0.8371564056087826\n",
      "0.8154707929285485\n",
      "0.5367942898687039\n",
      "0.9293516479404565\n",
      "0.8343153996525403\n",
      "0.8660706191913171\n",
      "0.7347017063894744\n",
      "0.7187401012864797\n",
      "0.5282632987793919\n",
      "0.9519757627817899\n",
      "0.9121668428064089\n",
      "0.8544399293104193\n",
      "0.9697674919445773\n",
      "0.7422329138844357\n",
      "0.9312732828747392\n",
      "0.8737313949513632\n",
      "0.9771889436214822\n",
      "0.922819681960001\n",
      "0.8296546160343955\n",
      "0.8615672021621624\n",
      "0.7474774284047607\n",
      "0.6257472708382913\n",
      "0.9126426303934954\n",
      "0.9691614987106448\n",
      "0.9370201420141662\n",
      "0.9271611395781687\n",
      "0.8124384104190902\n",
      "0.9230260239741358\n",
      "0.8497325565439227\n",
      "0.7110214242567796\n",
      "0.9435623626128975\n",
      "0.9832856545598877\n",
      "0.7006882136046185\n",
      "0.6694342266871843\n"
     ]
    }
   ],
   "source": [
    "##-- hp1 no time series??\n",
    "import pylab\n",
    "from pycbc import waveform\n",
    "from pycbc.waveform import get_td_waveform\n",
    "from pycbc.detector import Detector\n",
    "\n",
    "\n",
    "#-- Generate the two waveforms:\n",
    "for x in range(98):\n",
    "    for idx_1, idx_2 in zip(np.random.randint(0, 100, 50), np.random.randint(0, 100, 50)):\n",
    "        hp_1, hc_1 = get_td_waveform(approximant='IMRPhenomPv3HM',\n",
    "                                    mass1=mass1_source[idx_1], \n",
    "                                    mass2=mass2_source[idx_1], \n",
    "                                    spin1x = spin1x[idx_1],\n",
    "                                    spin1y = spin1y[idx_1],\n",
    "                                    spin1z=spin1z[idx_1],\n",
    "                                 \n",
    "                                    spin2x = spin2x[idx_1],\n",
    "                                    spin2y = spin2y[idx_1],\n",
    "                                    spin2z = spin2z[idx_1],\n",
    "                                    distance = luminosity_distance[idx_1],\n",
    "                                    coa_phase = phase[idx_1],\n",
    "                                    delta_t=1.0/4096,\n",
    "                                    f_lower=20)\n",
    "        dec_1= declination[idx_1]\n",
    "        ra_1= right_ascension[idx_1]\n",
    "        pol_1= polarization[idx_1]\n",
    "        inc_1= inclination[idx_1]\n",
    "        time_1= L1_time[idx_1]\n",
    "        d_1 = Detector(\"L1\")\n",
    "    \n",
    "                                \n",
    "        hp_2, hc_2 = get_td_waveform(approximant='SEOBNRv4PHM',\n",
    "                                    mass1=mass1_source_2[idx_2], \n",
    "                                    mass2=mass2_source_2[idx_2], \n",
    "                                    spin1x = spin1x_2[idx_2],\n",
    "                                    spin1y = spin1y_2[idx_2],\n",
    "                                    spin1z=spin1z_2[idx_2],\n",
    "                                 \n",
    "                                    spin2x = spin2x_2[idx_2],\n",
    "                                    spin2y = spin2y_2[idx_2],\n",
    "                                    spin2z = spin2z_2[idx_2],\n",
    "                                    distance = luminosity_distance_2[idx_2],\n",
    "                                    coa_phase = phase_2[idx_2],\n",
    "                                    delta_t=1.0/4096,\n",
    "                                    f_lower=20)\n",
    "        dec_2= declination_2[idx_2]\n",
    "        ra_2= right_ascension_2[idx_2]\n",
    "        pol_2= polarization_2[idx_2]\n",
    "        inc_2= inclination_2[idx_2]\n",
    "        time_2= L1_time_2[idx_2]\n",
    "        d_2 = Detector(\"L1\")\n",
    "    \n",
    "    fp_1, fc_1 = d_1.antenna_pattern(ra_1, dec_1, pol_1, time_1)\n",
    "    hp1 = fp_1 * hp_1 + fc_1 * hc_1\n",
    "    hp_1.start_time = hc_1.start_time = time_1\n",
    "    hp1 =d_1.project_wave(hp_1, hc_1, ra_1, dec_1, pol_1)\n",
    "    \n",
    "    \n",
    "    \n",
    "    fp_2, fc_2 = d_2.antenna_pattern(ra_2, dec_2, pol_2, time_2)\n",
    "    hp2 = fp_2 * hp_2 + fc_2 * hc_2\n",
    "    hp_2.start_time = hc_2.start_time = time_2\n",
    "    hp2 =d_2.project_wave(hp_2, hc_2, ra_2, dec_2, pol_2)\n",
    "\n",
    "    #-- resize waveforms to have same length\n",
    "    new_length = max(len(hp2), len(hp1))\n",
    "    hp1.resize(new_length)\n",
    "    hp2.resize(new_length)\n",
    "    \n",
    "\n",
    "     #-- ~8 sec length\n",
    "    dur = hp1.get_duration()\n",
    "    factor = dur/7.998779296875\n",
    "    length = len(hp1) * 1/factor\n",
    "    hp1.resize(length)\n",
    "    same_length = max(len(hp1), len(hp2))\n",
    "    hp1.resize(same_length)\n",
    "    hp2.resize(same_length)\n",
    "    \n",
    "\n",
    "     #-- window + fft\n",
    "    model_waveform_series1 = TimeSeries(hp1, unit = '', sample_rate = 4096, name = 'IMRPhenomPv3HM')\n",
    "    window1 = get_window(('tukey', (0.1)), model_waveform_series1.size)\n",
    "    series_with_window1 = model_waveform_series1 * window1\n",
    "    hp1_fft = series_with_window1.fft().abs()\n",
    "    \n",
    "    model_waveform_series2 = TimeSeries(hp2, unit = '', sample_rate = 4096, name = 'SEOBNRv4PHM')\n",
    "    window2 = get_window(('tukey', (0.1)), model_waveform_series2.size)\n",
    "    series_with_window2 = model_waveform_series2 * window2\n",
    "    hp2_fft = series_with_window2.fft().abs()\n",
    "    \n",
    "    \n",
    "    #-- Allowing complex values\n",
    "    hp1_fft_1 = series_with_window1.fft()\n",
    "    hp2_fft_2 = series_with_window2.fft()\n",
    "    \n",
    "    #-- overlap function\n",
    "    overlap_numer=np.fft.fft(hp1_fft_1 * hp2_fft_2.conjugate() / psd)\n",
    "    overlap = overlap_numer/sum(abs(hp1_fft_1)**2/psd)**0.5 /sum(abs(hp2_fft_2)**2/psd)**0.5\n",
    "    \n",
    "    #-- correct shape as psd\n",
    "    hp1time = hp1\n",
    "    hp1time = hp1time[1:16383]\n",
    "\n",
    "    hp2time = hp2\n",
    "    hp2time = hp2time[1:16383]\n",
    "    print(max(overlap.abs().flatten(),key=float))\n",
    "\n",
    "    x = max(overlap.abs().flatten(),key=float)\n",
    "    max_test_lst = overlap_lst.append(x)\n",
    "\n",
    "    \n",
    "#pylab.plot(hp1.sample_times, hp1, label = 'IMRPhenomPv3HM-1')\n",
    "#pylab.plot(hp2.sample_times, hp2, label = 'SEOBNRv4PHM-2')\n",
    "#plt.legend()"
   ]
  },
  {
   "cell_type": "code",
   "execution_count": 27,
   "metadata": {},
   "outputs": [],
   "source": [
    "#-- I first ran the the top function to obtain two overlap values\n",
    "#to make sure my code was running ocrrectly and created a list. \n",
    "#I then appended to the list\n",
    "\n",
    "overlap_lst = [0.6422026809120972, 0.9792003180080017]"
   ]
  },
  {
   "cell_type": "code",
   "execution_count": 55,
   "metadata": {},
   "outputs": [
    {
     "data": {
      "image/png": "[encoded data removed]",
      "text/plain": [
       "<Figure size 432x288 with 1 Axes>"
      ]
     },
     "metadata": {
      "needs_background": "light"
     },
     "output_type": "display_data"
    }
   ],
   "source": [
    "#--Histogram [5]\n",
    "plt.hist(overlap_lst, bins = 15, color ='xkcd:sandy')\n",
    "plt.xlabel('overlap')\n",
    "plt.title('Histogram of 100 maximum overlaps: \\n IMRPhenomPv3HM vs SEOBNRv4PHM')\n",
    "#plt.savefig('IMRPhenomPv3HM_SEOBNRv4PHM_histo.png', bbox_inches='tight')\n",
    "plt.show()"
   ]
  },
  {
   "cell_type": "code",
   "execution_count": 1,
   "metadata": {},
   "outputs": [
    {
     "name": "stdout",
     "output_type": "stream",
     "text": [
      "/bin/sh: ntest: No such file or directory\r\n"
     ]
    }
   ],
   "source": [
    "!jupyter nbconvert <ntest>.ipynb --to html"
   ]
  },
  {
   "cell_type": "code",
   "execution_count": null,
   "metadata": {},
   "outputs": [],
   "source": []
  }
 ],
 "metadata": {
  "kernelspec": {
   "display_name": "Python 3",
   "language": "python",
   "name": "python3"
  },
  "language_info": {
   "codemirror_mode": {
    "name": "ipython",
    "version": 3
   },
   "file_extension": ".py",
   "mimetype": "text/x-python",
   "name": "python",
   "nbconvert_exporter": "python",
   "pygments_lexer": "ipython3",
   "version": "3.7.6"
  }
 },
 "nbformat": 4,
 "nbformat_minor": 4
}
