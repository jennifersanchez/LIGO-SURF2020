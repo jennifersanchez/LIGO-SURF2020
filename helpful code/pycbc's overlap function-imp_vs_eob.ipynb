{
 "cells": [
  {
   "cell_type": "code",
   "execution_count": 1,
   "metadata": {},
   "outputs": [],
   "source": [
    "# import useful python packages\n",
    "%matplotlib inline\n",
    "import numpy as np\n",
    "import matplotlib.pyplot as plt\n",
    "import seaborn as sns\n",
    "import h5py"
   ]
  },
  {
   "cell_type": "markdown",
   "metadata": {},
   "source": [
    "# IMRPhenomPv3HM samples"
   ]
  },
  {
   "cell_type": "code",
   "execution_count": 13,
   "metadata": {},
   "outputs": [
    {
     "name": "stdout",
     "output_type": "stream",
     "text": [
      "approximants: <KeysViewHDF5 ['IMRPhenomD', 'IMRPhenomHM', 'IMRPhenomPv3', 'IMRPhenomPv3HM', 'NRHybSur3dq8', 'SEOBNRv4HM_ROM', 'SEOBNRv4P', 'SEOBNRv4PHM', 'SEOBNRv4_ROM', 'combined', 'version']>\n"
     ]
    }
   ],
   "source": [
    "file_name = \"GW190412_posterior_samples.h5\"\n",
    "data = h5py.File(file_name,'r')\n",
    "\n",
    "print('approximants:',data.keys())"
   ]
  },
  {
   "cell_type": "code",
   "execution_count": 14,
   "metadata": {},
   "outputs": [
    {
     "name": "stdout",
     "output_type": "stream",
     "text": [
      "Top-level data structures: <KeysViewHDF5 ['approximant', 'calibration_envelope', 'config_file', 'injection_data', 'meta_data', 'posterior_samples', 'priors', 'psds', 'version']>\n"
     ]
    }
   ],
   "source": [
    "print('Top-level data structures:',data['IMRPhenomPv3HM'].keys())"
   ]
  },
  {
   "cell_type": "code",
   "execution_count": 15,
   "metadata": {},
   "outputs": [
    {
     "name": "stdout",
     "output_type": "stream",
     "text": [
      "<HDF5 group \"/IMRPhenomPv3HM/priors\" (2 members)>\n"
     ]
    }
   ],
   "source": [
    "priors =  data['IMRPhenomPv3HM']['priors']\n",
    "print(priors)"
   ]
  },
  {
   "cell_type": "code",
   "execution_count": 16,
   "metadata": {
    "scrolled": true
   },
   "outputs": [
    {
     "name": "stdout",
     "output_type": "stream",
     "text": [
      "data structures in posterior_samples: [('H1_matched_filter_snr', '<f8'), ('H1_optimal_snr', '<f8'), ('L1_matched_filter_snr', '<f8'), ('L1_optimal_snr', '<f8'), ('V1_matched_filter_snr', '<f8'), ('V1_optimal_snr', '<f8'), ('a_1', '<f8'), ('a_2', '<f8'), ('chi_1_in_plane', '<f8'), ('chi_2_in_plane', '<f8'), ('chi_eff', '<f8'), ('chi_p', '<f8'), ('chirp_mass', '<f8'), ('chirp_mass_source', '<f8'), ('comoving_distance', '<f8'), ('cos_theta_jn', '<f8'), ('cos_tilt_1', '<f8'), ('cos_tilt_2', '<f8'), ('dec', '<f8'), ('geocent_time', '<f8'), ('log_likelihood', '<f8'), ('luminosity_distance', '<f8'), ('mass_1', '<f8'), ('mass_1_source', '<f8'), ('mass_2', '<f8'), ('mass_2_source', '<f8'), ('mass_ratio', '<f8'), ('phase', '<f8'), ('phi_1', '<f8'), ('phi_12', '<f8'), ('phi_2', '<f8'), ('phi_jl', '<f8'), ('psi', '<f8'), ('ra', '<f8'), ('recalib_H1_amplitude_0', '<f8'), ('recalib_H1_amplitude_1', '<f8'), ('recalib_H1_amplitude_2', '<f8'), ('recalib_H1_amplitude_3', '<f8'), ('recalib_H1_amplitude_4', '<f8'), ('recalib_H1_amplitude_5', '<f8'), ('recalib_H1_amplitude_6', '<f8'), ('recalib_H1_amplitude_7', '<f8'), ('recalib_H1_amplitude_8', '<f8'), ('recalib_H1_amplitude_9', '<f8'), ('recalib_H1_frequency_0', '<f8'), ('recalib_H1_frequency_1', '<f8'), ('recalib_H1_frequency_2', '<f8'), ('recalib_H1_frequency_3', '<f8'), ('recalib_H1_frequency_4', '<f8'), ('recalib_H1_frequency_5', '<f8'), ('recalib_H1_frequency_6', '<f8'), ('recalib_H1_frequency_7', '<f8'), ('recalib_H1_frequency_8', '<f8'), ('recalib_H1_frequency_9', '<f8'), ('recalib_H1_phase_0', '<f8'), ('recalib_H1_phase_1', '<f8'), ('recalib_H1_phase_2', '<f8'), ('recalib_H1_phase_3', '<f8'), ('recalib_H1_phase_4', '<f8'), ('recalib_H1_phase_5', '<f8'), ('recalib_H1_phase_6', '<f8'), ('recalib_H1_phase_7', '<f8'), ('recalib_H1_phase_8', '<f8'), ('recalib_H1_phase_9', '<f8'), ('recalib_L1_amplitude_0', '<f8'), ('recalib_L1_amplitude_1', '<f8'), ('recalib_L1_amplitude_2', '<f8'), ('recalib_L1_amplitude_3', '<f8'), ('recalib_L1_amplitude_4', '<f8'), ('recalib_L1_amplitude_5', '<f8'), ('recalib_L1_amplitude_6', '<f8'), ('recalib_L1_amplitude_7', '<f8'), ('recalib_L1_amplitude_8', '<f8'), ('recalib_L1_amplitude_9', '<f8'), ('recalib_L1_frequency_0', '<f8'), ('recalib_L1_frequency_1', '<f8'), ('recalib_L1_frequency_2', '<f8'), ('recalib_L1_frequency_3', '<f8'), ('recalib_L1_frequency_4', '<f8'), ('recalib_L1_frequency_5', '<f8'), ('recalib_L1_frequency_6', '<f8'), ('recalib_L1_frequency_7', '<f8'), ('recalib_L1_frequency_8', '<f8'), ('recalib_L1_frequency_9', '<f8'), ('recalib_L1_phase_0', '<f8'), ('recalib_L1_phase_1', '<f8'), ('recalib_L1_phase_2', '<f8'), ('recalib_L1_phase_3', '<f8'), ('recalib_L1_phase_4', '<f8'), ('recalib_L1_phase_5', '<f8'), ('recalib_L1_phase_6', '<f8'), ('recalib_L1_phase_7', '<f8'), ('recalib_L1_phase_8', '<f8'), ('recalib_L1_phase_9', '<f8'), ('recalib_V1_amplitude_0', '<f8'), ('recalib_V1_amplitude_1', '<f8'), ('recalib_V1_amplitude_2', '<f8'), ('recalib_V1_amplitude_3', '<f8'), ('recalib_V1_amplitude_4', '<f8'), ('recalib_V1_amplitude_5', '<f8'), ('recalib_V1_amplitude_6', '<f8'), ('recalib_V1_amplitude_7', '<f8'), ('recalib_V1_amplitude_8', '<f8'), ('recalib_V1_amplitude_9', '<f8'), ('recalib_V1_frequency_0', '<f8'), ('recalib_V1_frequency_1', '<f8'), ('recalib_V1_frequency_2', '<f8'), ('recalib_V1_frequency_3', '<f8'), ('recalib_V1_frequency_4', '<f8'), ('recalib_V1_frequency_5', '<f8'), ('recalib_V1_frequency_6', '<f8'), ('recalib_V1_frequency_7', '<f8'), ('recalib_V1_frequency_8', '<f8'), ('recalib_V1_frequency_9', '<f8'), ('recalib_V1_phase_0', '<f8'), ('recalib_V1_phase_1', '<f8'), ('recalib_V1_phase_2', '<f8'), ('recalib_V1_phase_3', '<f8'), ('recalib_V1_phase_4', '<f8'), ('recalib_V1_phase_5', '<f8'), ('recalib_V1_phase_6', '<f8'), ('recalib_V1_phase_7', '<f8'), ('recalib_V1_phase_8', '<f8'), ('recalib_V1_phase_9', '<f8'), ('symmetric_mass_ratio', '<f8'), ('theta_jn', '<f8'), ('tilt_1', '<f8'), ('tilt_2', '<f8'), ('time_jitter', '<f8'), ('total_mass', '<f8'), ('total_mass_source', '<f8'), ('H1_matched_filter_abs_snr', '<f8'), ('H1_matched_filter_snr_angle', '<f8'), ('L1_matched_filter_abs_snr', '<f8'), ('L1_matched_filter_snr_angle', '<f8'), ('V1_matched_filter_abs_snr', '<f8'), ('V1_matched_filter_snr_angle', '<f8'), ('inverted_mass_ratio', '<f8'), ('iota', '<f8'), ('spin_1x', '<f8'), ('spin_1y', '<f8'), ('spin_1z', '<f8'), ('spin_2x', '<f8'), ('spin_2y', '<f8'), ('spin_2z', '<f8'), ('final_spin', '<f8'), ('peak_luminosity', '<f8'), ('final_mass', '<f8'), ('redshift', '<f8'), ('final_mass_source', '<f8'), ('radiated_energy', '<f8'), ('network_optimal_snr', '<f8'), ('network_matched_filter_snr', '<f8'), ('cos_iota', '<f8'), ('final_spin_non_evolved', '<f8'), ('peak_luminosity_non_evolved', '<f8'), ('final_mass_non_evolved', '<f8'), ('final_mass_source_non_evolved', '<f8'), ('radiated_energy_non_evolved', '<f8'), ('H1_time', '<f8'), ('L1_time', '<f8'), ('V1_time', '<f8')]\n",
      "parameter names: ['H1_matched_filter_snr', 'H1_optimal_snr', 'L1_matched_filter_snr', 'L1_optimal_snr', 'V1_matched_filter_snr', 'V1_optimal_snr', 'a_1', 'a_2', 'chi_1_in_plane', 'chi_2_in_plane', 'chi_eff', 'chi_p', 'chirp_mass', 'chirp_mass_source', 'comoving_distance', 'cos_theta_jn', 'cos_tilt_1', 'cos_tilt_2', 'dec', 'geocent_time', 'log_likelihood', 'luminosity_distance', 'mass_1', 'mass_1_source', 'mass_2', 'mass_2_source', 'mass_ratio', 'phase', 'phi_1', 'phi_12', 'phi_2', 'phi_jl', 'psi', 'ra', 'recalib_H1_amplitude_0', 'recalib_H1_amplitude_1', 'recalib_H1_amplitude_2', 'recalib_H1_amplitude_3', 'recalib_H1_amplitude_4', 'recalib_H1_amplitude_5', 'recalib_H1_amplitude_6', 'recalib_H1_amplitude_7', 'recalib_H1_amplitude_8', 'recalib_H1_amplitude_9', 'recalib_H1_frequency_0', 'recalib_H1_frequency_1', 'recalib_H1_frequency_2', 'recalib_H1_frequency_3', 'recalib_H1_frequency_4', 'recalib_H1_frequency_5', 'recalib_H1_frequency_6', 'recalib_H1_frequency_7', 'recalib_H1_frequency_8', 'recalib_H1_frequency_9', 'recalib_H1_phase_0', 'recalib_H1_phase_1', 'recalib_H1_phase_2', 'recalib_H1_phase_3', 'recalib_H1_phase_4', 'recalib_H1_phase_5', 'recalib_H1_phase_6', 'recalib_H1_phase_7', 'recalib_H1_phase_8', 'recalib_H1_phase_9', 'recalib_L1_amplitude_0', 'recalib_L1_amplitude_1', 'recalib_L1_amplitude_2', 'recalib_L1_amplitude_3', 'recalib_L1_amplitude_4', 'recalib_L1_amplitude_5', 'recalib_L1_amplitude_6', 'recalib_L1_amplitude_7', 'recalib_L1_amplitude_8', 'recalib_L1_amplitude_9', 'recalib_L1_frequency_0', 'recalib_L1_frequency_1', 'recalib_L1_frequency_2', 'recalib_L1_frequency_3', 'recalib_L1_frequency_4', 'recalib_L1_frequency_5', 'recalib_L1_frequency_6', 'recalib_L1_frequency_7', 'recalib_L1_frequency_8', 'recalib_L1_frequency_9', 'recalib_L1_phase_0', 'recalib_L1_phase_1', 'recalib_L1_phase_2', 'recalib_L1_phase_3', 'recalib_L1_phase_4', 'recalib_L1_phase_5', 'recalib_L1_phase_6', 'recalib_L1_phase_7', 'recalib_L1_phase_8', 'recalib_L1_phase_9', 'recalib_V1_amplitude_0', 'recalib_V1_amplitude_1', 'recalib_V1_amplitude_2', 'recalib_V1_amplitude_3', 'recalib_V1_amplitude_4', 'recalib_V1_amplitude_5', 'recalib_V1_amplitude_6', 'recalib_V1_amplitude_7', 'recalib_V1_amplitude_8', 'recalib_V1_amplitude_9', 'recalib_V1_frequency_0', 'recalib_V1_frequency_1', 'recalib_V1_frequency_2', 'recalib_V1_frequency_3', 'recalib_V1_frequency_4', 'recalib_V1_frequency_5', 'recalib_V1_frequency_6', 'recalib_V1_frequency_7', 'recalib_V1_frequency_8', 'recalib_V1_frequency_9', 'recalib_V1_phase_0', 'recalib_V1_phase_1', 'recalib_V1_phase_2', 'recalib_V1_phase_3', 'recalib_V1_phase_4', 'recalib_V1_phase_5', 'recalib_V1_phase_6', 'recalib_V1_phase_7', 'recalib_V1_phase_8', 'recalib_V1_phase_9', 'symmetric_mass_ratio', 'theta_jn', 'tilt_1', 'tilt_2', 'time_jitter', 'total_mass', 'total_mass_source', 'H1_matched_filter_abs_snr', 'H1_matched_filter_snr_angle', 'L1_matched_filter_abs_snr', 'L1_matched_filter_snr_angle', 'V1_matched_filter_abs_snr', 'V1_matched_filter_snr_angle', 'inverted_mass_ratio', 'iota', 'spin_1x', 'spin_1y', 'spin_1z', 'spin_2x', 'spin_2y', 'spin_2z', 'final_spin', 'peak_luminosity', 'final_mass', 'redshift', 'final_mass_source', 'radiated_energy', 'network_optimal_snr', 'network_matched_filter_snr', 'cos_iota', 'final_spin_non_evolved', 'peak_luminosity_non_evolved', 'final_mass_non_evolved', 'final_mass_source_non_evolved', 'radiated_energy_non_evolved', 'H1_time', 'L1_time', 'V1_time']\n"
     ]
    }
   ],
   "source": [
    "posterior_samples = data['IMRPhenomPv3HM']['posterior_samples']\n",
    "print('data structures in posterior_samples:',posterior_samples.dtype)\n",
    "pnames = [item for item in posterior_samples.dtype.names]\n",
    "print('parameter names:',pnames)"
   ]
  },
  {
   "cell_type": "code",
   "execution_count": 17,
   "metadata": {},
   "outputs": [],
   "source": [
    "chi_eff = posterior_samples['chi_eff']\n",
    "luminosity_distance = posterior_samples['luminosity_distance']\n",
    "mass1_source = posterior_samples['mass_1_source']\n",
    "mass2_source = posterior_samples['mass_2_source']\n",
    "spin1x = posterior_samples['spin_1x']\n",
    "spin1y = posterior_samples['spin_1y']\n",
    "spin1z = posterior_samples['spin_1z']\n",
    "spin2x = posterior_samples['spin_2x']\n",
    "spin2y = posterior_samples['spin_2y']\n",
    "spin2z = posterior_samples['spin_2z']\n",
    "phase = posterior_samples['phase']\n",
    "inclination = posterior_samples['theta_jn']\n",
    "phase = posterior_samples['phase']\n",
    "declination = posterior_samples['dec']\n",
    "right_ascension = posterior_samples['ra']\n",
    "polarization = posterior_samples['psi']\n",
    "L1_time = posterior_samples['L1_time']"
   ]
  },
  {
   "cell_type": "code",
   "execution_count": 18,
   "metadata": {},
   "outputs": [
    {
     "name": "stdout",
     "output_type": "stream",
     "text": [
      "[28.22280558 25.61605005 27.66500678 ... 25.98714976 29.13545946\n",
      " 23.66578178]\n",
      "[ 0.43060326  0.50937488  0.15418263 ... -0.20486569 -0.27679917\n",
      "  0.07003505]\n"
     ]
    }
   ],
   "source": [
    "print(mass1_source)\n",
    "print(spin1x)"
   ]
  },
  {
   "cell_type": "markdown",
   "metadata": {},
   "source": [
    "# SEOBNRv4PHM samples"
   ]
  },
  {
   "cell_type": "code",
   "execution_count": 19,
   "metadata": {},
   "outputs": [
    {
     "name": "stdout",
     "output_type": "stream",
     "text": [
      "Top-level data structures: <KeysViewHDF5 ['approximant', 'calibration_envelope', 'config_file', 'injection_data', 'meta_data', 'posterior_samples', 'priors', 'psds', 'version']>\n"
     ]
    }
   ],
   "source": [
    "print('Top-level data structures:',data['SEOBNRv4PHM'].keys())"
   ]
  },
  {
   "cell_type": "code",
   "execution_count": 7,
   "metadata": {},
   "outputs": [
    {
     "name": "stdout",
     "output_type": "stream",
     "text": [
      "<HDF5 group \"/SEOBNRv4PHM/priors\" (2 members)>\n"
     ]
    }
   ],
   "source": [
    "priors_2 =  data['SEOBNRv4PHM']['priors']\n",
    "print(priors)"
   ]
  },
  {
   "cell_type": "code",
   "execution_count": 20,
   "metadata": {
    "scrolled": true
   },
   "outputs": [
    {
     "name": "stdout",
     "output_type": "stream",
     "text": [
      "data structures in posterior_samples: [('luminosity_distance', '<f8'), ('geocent_time', '<f8'), ('recalib_H1_frequency_0', '<f8'), ('recalib_H1_frequency_1', '<f8'), ('recalib_H1_frequency_2', '<f8'), ('recalib_H1_frequency_3', '<f8'), ('recalib_H1_frequency_4', '<f8'), ('recalib_H1_frequency_5', '<f8'), ('recalib_H1_frequency_6', '<f8'), ('recalib_H1_frequency_7', '<f8'), ('recalib_H1_frequency_8', '<f8'), ('recalib_H1_frequency_9', '<f8'), ('recalib_L1_frequency_0', '<f8'), ('recalib_L1_frequency_1', '<f8'), ('recalib_L1_frequency_2', '<f8'), ('recalib_L1_frequency_3', '<f8'), ('recalib_L1_frequency_4', '<f8'), ('recalib_L1_frequency_5', '<f8'), ('recalib_L1_frequency_6', '<f8'), ('recalib_L1_frequency_7', '<f8'), ('recalib_L1_frequency_8', '<f8'), ('recalib_L1_frequency_9', '<f8'), ('recalib_V1_frequency_0', '<f8'), ('recalib_V1_frequency_1', '<f8'), ('recalib_V1_frequency_2', '<f8'), ('recalib_V1_frequency_3', '<f8'), ('recalib_V1_frequency_4', '<f8'), ('recalib_V1_frequency_5', '<f8'), ('recalib_V1_frequency_6', '<f8'), ('recalib_V1_frequency_7', '<f8'), ('recalib_V1_frequency_8', '<f8'), ('recalib_V1_frequency_9', '<f8'), ('mass_ratio', '<f8'), ('chirp_mass', '<f8'), ('dec', '<f8'), ('ra', '<f8'), ('cos_theta_jn', '<f8'), ('psi', '<f8'), ('phase', '<f8'), ('a_1', '<f8'), ('a_2', '<f8'), ('tilt_1', '<f8'), ('tilt_2', '<f8'), ('phi_12', '<f8'), ('phi_jl', '<f8'), ('recalib_H1_amplitude_0', '<f8'), ('recalib_H1_amplitude_1', '<f8'), ('recalib_H1_amplitude_2', '<f8'), ('recalib_H1_amplitude_3', '<f8'), ('recalib_H1_amplitude_4', '<f8'), ('recalib_H1_amplitude_5', '<f8'), ('recalib_H1_amplitude_6', '<f8'), ('recalib_H1_amplitude_7', '<f8'), ('recalib_H1_amplitude_8', '<f8'), ('recalib_H1_amplitude_9', '<f8'), ('recalib_H1_phase_0', '<f8'), ('recalib_H1_phase_1', '<f8'), ('recalib_H1_phase_2', '<f8'), ('recalib_H1_phase_3', '<f8'), ('recalib_H1_phase_4', '<f8'), ('recalib_H1_phase_5', '<f8'), ('recalib_H1_phase_6', '<f8'), ('recalib_H1_phase_7', '<f8'), ('recalib_H1_phase_8', '<f8'), ('recalib_H1_phase_9', '<f8'), ('recalib_L1_amplitude_0', '<f8'), ('recalib_L1_amplitude_1', '<f8'), ('recalib_L1_amplitude_2', '<f8'), ('recalib_L1_amplitude_3', '<f8'), ('recalib_L1_amplitude_4', '<f8'), ('recalib_L1_amplitude_5', '<f8'), ('recalib_L1_amplitude_6', '<f8'), ('recalib_L1_amplitude_7', '<f8'), ('recalib_L1_amplitude_8', '<f8'), ('recalib_L1_amplitude_9', '<f8'), ('recalib_L1_phase_0', '<f8'), ('recalib_L1_phase_1', '<f8'), ('recalib_L1_phase_2', '<f8'), ('recalib_L1_phase_3', '<f8'), ('recalib_L1_phase_4', '<f8'), ('recalib_L1_phase_5', '<f8'), ('recalib_L1_phase_6', '<f8'), ('recalib_L1_phase_7', '<f8'), ('recalib_L1_phase_8', '<f8'), ('recalib_L1_phase_9', '<f8'), ('recalib_V1_amplitude_0', '<f8'), ('recalib_V1_amplitude_1', '<f8'), ('recalib_V1_amplitude_2', '<f8'), ('recalib_V1_amplitude_3', '<f8'), ('recalib_V1_amplitude_4', '<f8'), ('recalib_V1_amplitude_5', '<f8'), ('recalib_V1_amplitude_6', '<f8'), ('recalib_V1_amplitude_7', '<f8'), ('recalib_V1_amplitude_8', '<f8'), ('recalib_V1_amplitude_9', '<f8'), ('recalib_V1_phase_0', '<f8'), ('recalib_V1_phase_1', '<f8'), ('recalib_V1_phase_2', '<f8'), ('recalib_V1_phase_3', '<f8'), ('recalib_V1_phase_4', '<f8'), ('recalib_V1_phase_5', '<f8'), ('recalib_V1_phase_6', '<f8'), ('recalib_V1_phase_7', '<f8'), ('recalib_V1_phase_8', '<f8'), ('recalib_V1_phase_9', '<f8'), ('time_jitter', '<f8'), ('log_likelihood', '<f8'), ('H1_matched_filter_snr', '<f8'), ('H1_optimal_snr', '<f8'), ('L1_matched_filter_snr', '<f8'), ('L1_optimal_snr', '<f8'), ('V1_matched_filter_snr', '<f8'), ('V1_optimal_snr', '<f8'), ('total_mass', '<f8'), ('mass_1', '<f8'), ('mass_2', '<f8'), ('theta_jn', '<f8'), ('symmetric_mass_ratio', '<f8'), ('cos_tilt_1', '<f8'), ('cos_tilt_2', '<f8'), ('comoving_distance', '<f8'), ('mass_1_source', '<f8'), ('mass_2_source', '<f8'), ('chirp_mass_source', '<f8'), ('total_mass_source', '<f8'), ('iota', '<f8'), ('spin_1x', '<f8'), ('spin_1y', '<f8'), ('spin_1z', '<f8'), ('spin_2x', '<f8'), ('spin_2y', '<f8'), ('spin_2z', '<f8'), ('phi_1', '<f8'), ('phi_2', '<f8'), ('chi_eff', '<f8'), ('chi_1_in_plane', '<f8'), ('chi_2_in_plane', '<f8'), ('chi_p', '<f8'), ('H1_matched_filter_abs_snr', '<f8'), ('H1_matched_filter_snr_angle', '<f8'), ('L1_matched_filter_abs_snr', '<f8'), ('L1_matched_filter_snr_angle', '<f8'), ('V1_matched_filter_abs_snr', '<f8'), ('V1_matched_filter_snr_angle', '<f8'), ('inverted_mass_ratio', '<f8'), ('final_spin', '<f8'), ('peak_luminosity', '<f8'), ('final_mass', '<f8'), ('redshift', '<f8'), ('final_mass_source', '<f8'), ('radiated_energy', '<f8'), ('H1_time', '<f8'), ('L1_time', '<f8'), ('V1_time', '<f8'), ('network_optimal_snr', '<f8'), ('network_matched_filter_snr', '<f8'), ('cos_iota', '<f8'), ('final_spin_non_evolved', '<f8'), ('peak_luminosity_non_evolved', '<f8'), ('final_mass_non_evolved', '<f8'), ('final_mass_source_non_evolved', '<f8'), ('radiated_energy_non_evolved', '<f8')]\n",
      "parameter names: ['luminosity_distance', 'geocent_time', 'recalib_H1_frequency_0', 'recalib_H1_frequency_1', 'recalib_H1_frequency_2', 'recalib_H1_frequency_3', 'recalib_H1_frequency_4', 'recalib_H1_frequency_5', 'recalib_H1_frequency_6', 'recalib_H1_frequency_7', 'recalib_H1_frequency_8', 'recalib_H1_frequency_9', 'recalib_L1_frequency_0', 'recalib_L1_frequency_1', 'recalib_L1_frequency_2', 'recalib_L1_frequency_3', 'recalib_L1_frequency_4', 'recalib_L1_frequency_5', 'recalib_L1_frequency_6', 'recalib_L1_frequency_7', 'recalib_L1_frequency_8', 'recalib_L1_frequency_9', 'recalib_V1_frequency_0', 'recalib_V1_frequency_1', 'recalib_V1_frequency_2', 'recalib_V1_frequency_3', 'recalib_V1_frequency_4', 'recalib_V1_frequency_5', 'recalib_V1_frequency_6', 'recalib_V1_frequency_7', 'recalib_V1_frequency_8', 'recalib_V1_frequency_9', 'mass_ratio', 'chirp_mass', 'dec', 'ra', 'cos_theta_jn', 'psi', 'phase', 'a_1', 'a_2', 'tilt_1', 'tilt_2', 'phi_12', 'phi_jl', 'recalib_H1_amplitude_0', 'recalib_H1_amplitude_1', 'recalib_H1_amplitude_2', 'recalib_H1_amplitude_3', 'recalib_H1_amplitude_4', 'recalib_H1_amplitude_5', 'recalib_H1_amplitude_6', 'recalib_H1_amplitude_7', 'recalib_H1_amplitude_8', 'recalib_H1_amplitude_9', 'recalib_H1_phase_0', 'recalib_H1_phase_1', 'recalib_H1_phase_2', 'recalib_H1_phase_3', 'recalib_H1_phase_4', 'recalib_H1_phase_5', 'recalib_H1_phase_6', 'recalib_H1_phase_7', 'recalib_H1_phase_8', 'recalib_H1_phase_9', 'recalib_L1_amplitude_0', 'recalib_L1_amplitude_1', 'recalib_L1_amplitude_2', 'recalib_L1_amplitude_3', 'recalib_L1_amplitude_4', 'recalib_L1_amplitude_5', 'recalib_L1_amplitude_6', 'recalib_L1_amplitude_7', 'recalib_L1_amplitude_8', 'recalib_L1_amplitude_9', 'recalib_L1_phase_0', 'recalib_L1_phase_1', 'recalib_L1_phase_2', 'recalib_L1_phase_3', 'recalib_L1_phase_4', 'recalib_L1_phase_5', 'recalib_L1_phase_6', 'recalib_L1_phase_7', 'recalib_L1_phase_8', 'recalib_L1_phase_9', 'recalib_V1_amplitude_0', 'recalib_V1_amplitude_1', 'recalib_V1_amplitude_2', 'recalib_V1_amplitude_3', 'recalib_V1_amplitude_4', 'recalib_V1_amplitude_5', 'recalib_V1_amplitude_6', 'recalib_V1_amplitude_7', 'recalib_V1_amplitude_8', 'recalib_V1_amplitude_9', 'recalib_V1_phase_0', 'recalib_V1_phase_1', 'recalib_V1_phase_2', 'recalib_V1_phase_3', 'recalib_V1_phase_4', 'recalib_V1_phase_5', 'recalib_V1_phase_6', 'recalib_V1_phase_7', 'recalib_V1_phase_8', 'recalib_V1_phase_9', 'time_jitter', 'log_likelihood', 'H1_matched_filter_snr', 'H1_optimal_snr', 'L1_matched_filter_snr', 'L1_optimal_snr', 'V1_matched_filter_snr', 'V1_optimal_snr', 'total_mass', 'mass_1', 'mass_2', 'theta_jn', 'symmetric_mass_ratio', 'cos_tilt_1', 'cos_tilt_2', 'comoving_distance', 'mass_1_source', 'mass_2_source', 'chirp_mass_source', 'total_mass_source', 'iota', 'spin_1x', 'spin_1y', 'spin_1z', 'spin_2x', 'spin_2y', 'spin_2z', 'phi_1', 'phi_2', 'chi_eff', 'chi_1_in_plane', 'chi_2_in_plane', 'chi_p', 'H1_matched_filter_abs_snr', 'H1_matched_filter_snr_angle', 'L1_matched_filter_abs_snr', 'L1_matched_filter_snr_angle', 'V1_matched_filter_abs_snr', 'V1_matched_filter_snr_angle', 'inverted_mass_ratio', 'final_spin', 'peak_luminosity', 'final_mass', 'redshift', 'final_mass_source', 'radiated_energy', 'H1_time', 'L1_time', 'V1_time', 'network_optimal_snr', 'network_matched_filter_snr', 'cos_iota', 'final_spin_non_evolved', 'peak_luminosity_non_evolved', 'final_mass_non_evolved', 'final_mass_source_non_evolved', 'radiated_energy_non_evolved']\n"
     ]
    }
   ],
   "source": [
    "posterior_samples_2 = data['SEOBNRv4PHM']['posterior_samples']\n",
    "print('data structures in posterior_samples:',posterior_samples_2.dtype)\n",
    "pnames_2 = [item for item in posterior_samples_2.dtype.names]\n",
    "print('parameter names:',pnames_2)"
   ]
  },
  {
   "cell_type": "code",
   "execution_count": 21,
   "metadata": {},
   "outputs": [],
   "source": [
    "luminosity_distance_2 = posterior_samples_2['luminosity_distance']\n",
    "mass1_source_2 = posterior_samples_2['mass_1_source']\n",
    "mass2_source_2 = posterior_samples_2['mass_2_source']\n",
    "spin1x_2 = posterior_samples_2['spin_1x']\n",
    "spin1y_2 = posterior_samples_2['spin_1y']\n",
    "spin1z_2 = posterior_samples_2['spin_1z']\n",
    "spin2x_2 = posterior_samples_2['spin_2x']\n",
    "spin2y_2 = posterior_samples_2['spin_2y']\n",
    "spin2z_2 = posterior_samples_2['spin_2z']\n",
    "phase_2 = posterior_samples_2['phase']\n",
    "inclination_2 = posterior_samples_2['theta_jn']\n",
    "phase_2 = posterior_samples_2['phase']\n",
    "declination_2 = posterior_samples_2['dec']\n",
    "right_ascension_2 = posterior_samples_2['ra']\n",
    "polarization_2 = posterior_samples_2['psi']\n",
    "L1_time_2 = posterior_samples_2['L1_time']"
   ]
  },
  {
   "cell_type": "markdown",
   "metadata": {},
   "source": [
    "# IMR vs EOB"
   ]
  },
  {
   "cell_type": "code",
   "execution_count": 26,
   "metadata": {},
   "outputs": [
    {
     "name": "stdout",
     "output_type": "stream",
     "text": [
      "[0.9732]\n"
     ]
    }
   ],
   "source": [
    "imr_eob_lst=[0.9732]\n",
    "print(imr_eob_lst)"
   ]
  },
  {
   "cell_type": "code",
   "execution_count": 27,
   "metadata": {},
   "outputs": [
    {
     "name": "stdout",
     "output_type": "stream",
     "text": [
      "The match is: 0.8776\n",
      "The match is: 0.4341\n",
      "The match is: 0.5052\n",
      "The match is: 0.5754\n",
      "The match is: 0.7514\n",
      "The match is: 0.8612\n",
      "The match is: 0.8227\n",
      "The match is: 0.5085\n",
      "The match is: 0.6630\n",
      "The match is: 0.9579\n",
      "The match is: 0.8441\n",
      "The match is: 0.9763\n",
      "The match is: 0.9388\n",
      "The match is: 0.9620\n",
      "The match is: 0.3945\n",
      "The match is: 0.8146\n",
      "The match is: 0.5374\n",
      "The match is: 0.4592\n",
      "The match is: 0.7475\n",
      "The match is: 0.8903\n",
      "The match is: 0.5169\n",
      "The match is: 0.8896\n",
      "The match is: 0.5844\n",
      "The match is: 0.7403\n",
      "The match is: 0.6327\n",
      "The match is: 0.7195\n",
      "The match is: 0.9592\n",
      "The match is: 0.4337\n",
      "The match is: 0.4255\n",
      "The match is: 0.8577\n",
      "The match is: 0.6239\n",
      "The match is: 0.7408\n",
      "The match is: 0.7487\n",
      "The match is: 0.6832\n",
      "The match is: 0.8289\n",
      "The match is: 0.7949\n",
      "The match is: 0.7425\n",
      "The match is: 0.8071\n",
      "The match is: 0.9797\n",
      "The match is: 0.8266\n",
      "The match is: 0.7124\n",
      "The match is: 0.7026\n",
      "The match is: 0.8339\n",
      "The match is: 0.8719\n",
      "The match is: 0.9732\n",
      "The match is: 0.8603\n",
      "The match is: 0.6220\n",
      "The match is: 0.8863\n",
      "The match is: 0.7720\n",
      "The match is: 0.4578\n",
      "The match is: 0.5762\n",
      "The match is: 0.9076\n",
      "The match is: 0.4018\n",
      "The match is: 0.5365\n",
      "The match is: 0.6362\n",
      "The match is: 0.3959\n",
      "The match is: 0.6661\n",
      "The match is: 0.8607\n",
      "The match is: 0.6639\n",
      "The match is: 0.8912\n",
      "The match is: 0.6356\n",
      "The match is: 0.9235\n",
      "The match is: 0.9846\n",
      "The match is: 0.9549\n",
      "The match is: 0.9770\n",
      "The match is: 0.7149\n",
      "The match is: 0.5869\n",
      "The match is: 0.9315\n",
      "The match is: 0.9813\n",
      "The match is: 0.4524\n",
      "The match is: 0.8011\n",
      "The match is: 0.7433\n",
      "The match is: 0.7900\n",
      "The match is: 0.6410\n",
      "The match is: 0.6646\n",
      "The match is: 0.9145\n",
      "The match is: 0.9884\n",
      "The match is: 0.7589\n",
      "The match is: 0.5770\n",
      "The match is: 0.9357\n",
      "The match is: 0.7990\n",
      "The match is: 0.9760\n",
      "The match is: 0.8956\n",
      "The match is: 0.9420\n",
      "The match is: 0.8336\n",
      "The match is: 0.9541\n",
      "The match is: 0.8182\n",
      "The match is: 0.6218\n",
      "The match is: 0.9338\n",
      "The match is: 0.7211\n",
      "The match is: 0.8189\n",
      "The match is: 0.9861\n",
      "The match is: 0.9682\n",
      "The match is: 0.8694\n",
      "The match is: 0.5249\n",
      "The match is: 0.8454\n",
      "The match is: 0.6343\n",
      "The match is: 0.4994\n",
      "The match is: 0.9560\n"
     ]
    }
   ],
   "source": [
    "##-- hp1 no time series??\n",
    "import pylab\n",
    "from pycbc import waveform\n",
    "from pycbc.waveform import get_td_waveform\n",
    "from pycbc.detector import Detector\n",
    "from pycbc.psd import aLIGOZeroDetHighPower\n",
    "from pycbc.filter import match\n",
    "\n",
    "\n",
    "for x in range(99):\n",
    "#-- Generate the two waveforms:\n",
    "    for idx_1, idx_2 in zip(np.random.randint(0, 100, 50), np.random.randint(0, 100, 50)):\n",
    "        hp_1, hc_1 = get_td_waveform(approximant='IMRPhenomPv3HM',\n",
    "                                    mass1=mass1_source[idx_1], \n",
    "                                    mass2=mass2_source[idx_1], \n",
    "                                    spin1x = spin1x[idx_1],\n",
    "                                    spin1y = spin1y[idx_1],\n",
    "                                    spin1z=spin1z[idx_1],\n",
    "                                 \n",
    "                                    spin2x = spin2x[idx_1],\n",
    "                                    spin2y = spin2y[idx_1],\n",
    "                                    spin2z = spin2z[idx_1],\n",
    "                                    distance = luminosity_distance[idx_1],\n",
    "                                    coa_phase = phase[idx_1],\n",
    "                                    delta_t=1.0/4096,\n",
    "                                    f_lower=20)\n",
    "        dec_1= declination[idx_1]\n",
    "        ra_1= right_ascension[idx_1]\n",
    "        pol_1= polarization[idx_1]\n",
    "        inc_1= inclination[idx_1]\n",
    "        time_1= L1_time[idx_1]\n",
    "        d_1 = Detector(\"L1\")\n",
    "    \n",
    "                                \n",
    "        hp_2, hc_2 = get_td_waveform(approximant='SEOBNRv4PHM',\n",
    "                                    mass1=mass1_source_2[idx_2], \n",
    "                                    mass2=mass2_source_2[idx_2], \n",
    "                                    spin1x = spin1x_2[idx_2],\n",
    "                                    spin1y = spin1y_2[idx_2],\n",
    "                                    spin1z=spin1z_2[idx_2],\n",
    "                                 \n",
    "                                    spin2x = spin2x_2[idx_2],\n",
    "                                    spin2y = spin2y_2[idx_2],\n",
    "                                    spin2z = spin2z_2[idx_2],\n",
    "                                    distance = luminosity_distance_2[idx_2],\n",
    "                                    coa_phase = phase_2[idx_2],\n",
    "                                    delta_t=1.0/4096,\n",
    "                                    f_lower=20)\n",
    "        dec_2= declination_2[idx_2]\n",
    "        ra_2= right_ascension_2[idx_2]\n",
    "        pol_2= polarization_2[idx_2]\n",
    "        inc_2= inclination_2[idx_2]\n",
    "        time_2= L1_time_2[idx_2]\n",
    "        d_2 = Detector(\"L1\")\n",
    "    \n",
    "    fp_1, fc_1 = d_1.antenna_pattern(ra_1, dec_1, pol_1, time_1)\n",
    "    hp1 = fp_1 * hp_1 + fc_1 * hc_1\n",
    "    hp_1.start_time = hc_1.start_time = time_1\n",
    "    hp1 =d_1.project_wave(hp_1, hc_1, ra_1, dec_1, pol_1)\n",
    "\n",
    "    \n",
    "    \n",
    "    fp_2, fc_2 = d_2.antenna_pattern(ra_2, dec_2, pol_2, time_2)\n",
    "    hp2 = fp_2 * hp_2 + fc_2 * hc_2\n",
    "    hp_2.start_time = hc_2.start_time = time_2\n",
    "    hp2 =d_2.project_wave(hp_2, hc_2, ra_2, dec_2, pol_2)\n",
    "    \n",
    "    # Resize the waveforms to the same length\n",
    "    tlen = max(len(hp1), len(hp2))\n",
    "    hp1.resize(tlen)\n",
    "    hp2.resize(tlen)\n",
    "    \n",
    "    \n",
    "    # Generate the aLIGO ZDHP PSD\n",
    "    #I had some trouble incorportating the psd from the posterior sample\n",
    "    #so I used pycbc's psd method\n",
    "    delta_f = 1.0 / hp1.duration\n",
    "    flen = tlen//2 + 1\n",
    "    psd = aLIGOZeroDetHighPower(flen, delta_f, 20)\n",
    "    \n",
    "    m, i = match(hp1, hp2, psd= psd, low_frequency_cutoff=20)\n",
    "    print('The match is: {:.4f}'.format(m))\n",
    "    max_m = imr_eob_lst.append(m)"
   ]
  },
  {
   "cell_type": "markdown",
   "metadata": {},
   "source": [
    "# Histos!"
   ]
  },
  {
   "cell_type": "code",
   "execution_count": 48,
   "metadata": {},
   "outputs": [
    {
     "data": {
      "text/plain": [
       "Text(0.5, 1.0, '100 maximum overlaps using pycbc overlap function: \\n IMRPhenomPv3HM vs SEOBNRv4PHM')"
      ]
     },
     "execution_count": 48,
     "metadata": {},
     "output_type": "execute_result"
    },
    {
     "data": {
      "image/png": "[encoded data removed]",
      "text/plain": [
       "<Figure size 432x288 with 1 Axes>"
      ]
     },
     "metadata": {
      "needs_background": "light"
     },
     "output_type": "display_data"
    }
   ],
   "source": [
    "#--Histogram\n",
    "plt.hist(imr_eob_lst, bins = 15, color ='xkcd:sandy')\n",
    "plt.xlabel('overlap')\n",
    "plt.title('100 maximum overlaps using pycbc overlap function: \\n IMRPhenomPv3HM vs SEOBNRv4PHM')"
   ]
  }
 ],
 "metadata": {
  "kernelspec": {
   "display_name": "Python 3",
   "language": "python",
   "name": "python3"
  },
  "language_info": {
   "codemirror_mode": {
    "name": "ipython",
    "version": 3
   },
   "file_extension": ".py",
   "mimetype": "text/x-python",
   "name": "python",
   "nbconvert_exporter": "python",
   "pygments_lexer": "ipython3",
   "version": "3.7.6"
  }
 },
 "nbformat": 4,
 "nbformat_minor": 4
}
